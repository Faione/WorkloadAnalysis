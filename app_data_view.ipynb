{
 "cells": [
  {
   "cell_type": "code",
   "execution_count": null,
   "id": "249c9f26-c398-4b8d-8dfb-2652299f5347",
   "metadata": {},
   "outputs": [],
   "source": [
    "import sys\n",
    "sys.path.append('.')\n",
    "\n",
    "import common\n",
    "from sklearn import tree\n",
    "import os\n",
    "\n",
    "root_dir = os.path.join(\"data\", \"20230721\")\n",
    "raw_data_perfix = \"2023_07_21_all\"\n",
    "\n",
    "raw_data_file_path = os.path.join(root_dir, raw_data_perfix + \".csv\")\n",
    "raw_time_splits_path = os.path.join(root_dir, raw_data_perfix + \".json\")\n",
    "\n",
    "# APP_MAP = {\"memcached\": \"k-v store\", \"keydb\": \"k-v store\", \"redis\": \"k-v store\"}\n",
    "APP_MAP = {}\n",
    "\n",
    "X, Y, feature_names, class_names, apps = common.read_all_in_one_data(raw_data_file_path, raw_time_splits_path, APP_MAP)"
   ]
  }
 ],
 "metadata": {
  "kernelspec": {
   "display_name": "Python 3 (ipykernel)",
   "language": "python",
   "name": "python3"
  },
  "language_info": {
   "codemirror_mode": {
    "name": "ipython",
    "version": 3
   },
   "file_extension": ".py",
   "mimetype": "text/x-python",
   "name": "python",
   "nbconvert_exporter": "python",
   "pygments_lexer": "ipython3",
   "version": "3.11.4"
  }
 },
 "nbformat": 4,
 "nbformat_minor": 5
}
