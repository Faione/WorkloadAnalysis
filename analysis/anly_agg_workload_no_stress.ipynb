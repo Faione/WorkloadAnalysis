{
 "cells": [
  {
   "cell_type": "code",
   "execution_count": null,
   "id": "5d9b69f6-0e58-48b7-92fe-c6aa39c28dc0",
   "metadata": {},
   "outputs": [],
   "source": [
    "import sys\n",
    "sys.path.append('./tool')\n",
    "\n",
    "from aggregation import *\n",
    "import analyze\n",
    "import display\n",
    "\n",
    "pd.set_option('display.max_rows', 20) "
   ]
  },
  {
   "cell_type": "code",
   "execution_count": null,
   "id": "dbb0b386-e4b5-4154-be73-a6a3df008838",
   "metadata": {},
   "outputs": [],
   "source": [
    "exp_root = \"/home/ict/appProfile/data/addtion_exp/standard_stress_no_20231023023901\"\n",
    "exp_data = read_from_dir(exp_root)\n",
    "exp_data.set_workload_preprocess_funcs([\n",
    "    filter_column_startswith(col_prefix=(\"stress\", \"vm\", \"app\")),\n",
    "    filter_column_useless(excol_prefix=(\"stress\")),\n",
    "    filter_row_noise(col_prefix=(\"app\")),\n",
    "])\n",
    "\n",
    "keys = list(exp_data.exp[\"info_per_epoch\"][0][\"workloads\"].keys())\n",
    "keys"
   ]
  },
  {
   "cell_type": "code",
   "execution_count": null,
   "id": "59eca091-8ee0-4944-842a-5a32d9506e3a",
   "metadata": {},
   "outputs": [],
   "source": [
    "df_workload = exp_data.agg_epoch()\n",
    "df_workload"
   ]
  },
  {
   "cell_type": "markdown",
   "id": "7234af29-579b-4949-a3e7-2ff5e32e71eb",
   "metadata": {},
   "source": [
    "# 一、相关性分析\n",
    "## (1) 皮尔逊相关性"
   ]
  },
  {
   "cell_type": "code",
   "execution_count": null,
   "id": "80a6454e-d820-4b18-9354-e2be99055f77",
   "metadata": {},
   "outputs": [],
   "source": [
    "corr_matrix = analyze.pearson_correlation(df_workload)\n",
    "corr_matrix"
   ]
  },
  {
   "cell_type": "code",
   "execution_count": null,
   "id": "463269ed-7d6c-4408-b697-cd0602167e14",
   "metadata": {},
   "outputs": [],
   "source": [
    "display.plt_corr_heatmap(corr_matrix)"
   ]
  },
  {
   "cell_type": "markdown",
   "id": "2d83dc5f-c6a6-4c8f-8f15-177e5433a609",
   "metadata": {},
   "source": [
    "### 1. 相关性排序"
   ]
  },
  {
   "cell_type": "code",
   "execution_count": null,
   "id": "ab96cf3a-4368-4684-890b-646475b46db2",
   "metadata": {},
   "outputs": [],
   "source": [
    "# 提取相关性大于 c 的指标对\n",
    "c = 0.95\n",
    "fcorr_df = analyze.flatten_corr(corr_matrix, similarity_filter = [\n",
    "    lambda x: x[x.abs() > c].dropna(axis=0, how='all'),\n",
    "])\n",
    "fcorr_df"
   ]
  },
  {
   "cell_type": "markdown",
   "id": "29837831-636d-4a02-9bd0-87dbfe22723a",
   "metadata": {},
   "source": [
    "### 2. latency 相关指标"
   ]
  },
  {
   "cell_type": "code",
   "execution_count": null,
   "id": "513030a2-4323-4371-860e-1b746c1b3905",
   "metadata": {},
   "outputs": [],
   "source": [
    "c = 0.50\n",
    "latency_corr = analyze.single_corr(corr_matrix, \"app_redis_qos_p99_latency_set\", similarity_filter = [\n",
    "    lambda x: x[x.abs() > c].dropna(axis=0, how='all'),\n",
    "])\n",
    "latency_corr"
   ]
  },
  {
   "cell_type": "code",
   "execution_count": null,
   "id": "fff1959e-3578-4fe5-8533-31e070142e97",
   "metadata": {},
   "outputs": [],
   "source": [
    "display.plt_by_column(df_workload, columns=list(latency_corr.index))"
   ]
  },
  {
   "cell_type": "markdown",
   "id": "09ba25cd-c59e-4fe7-bee3-8fa517bd5121",
   "metadata": {},
   "source": [
    "## (2) 余弦相似性"
   ]
  },
  {
   "cell_type": "code",
   "execution_count": null,
   "id": "634de4d3-5680-40fb-a267-4437ce4c8900",
   "metadata": {},
   "outputs": [],
   "source": [
    "corr_matrix = analyze.cosine_similarity(df_workload)\n",
    "corr_matrix"
   ]
  },
  {
   "cell_type": "code",
   "execution_count": null,
   "id": "150a0efe-157b-4b6b-aa08-7cd5b95e2e15",
   "metadata": {},
   "outputs": [],
   "source": [
    "display.plt_corr_heatmap(corr_matrix)"
   ]
  },
  {
   "cell_type": "markdown",
   "id": "c5bf5514-6838-4535-b2fd-76e29f8c7f89",
   "metadata": {},
   "source": [
    "### 1. 相关性排序"
   ]
  },
  {
   "cell_type": "code",
   "execution_count": null,
   "id": "7a744974-2231-4fda-89af-19cfadafd939",
   "metadata": {},
   "outputs": [],
   "source": [
    "# 提取相关性大于 c 的指标对\n",
    "c = 0.99\n",
    "fcorr_df = analyze.flatten_corr(corr_matrix, similarity_filter = [\n",
    "    lambda x: x[x > c].dropna(axis=0, how='all'),\n",
    "])\n",
    "fcorr_df"
   ]
  },
  {
   "cell_type": "markdown",
   "id": "ea3f44aa-81a5-46bc-887d-7c8575c47dbe",
   "metadata": {},
   "source": [
    "### 2. latency 相关指标"
   ]
  },
  {
   "cell_type": "code",
   "execution_count": null,
   "id": "8f549c0d-e3da-4d6f-953b-56f999811867",
   "metadata": {},
   "outputs": [],
   "source": [
    "c = 0.80\n",
    "latency_corr = analyze.single_corr(corr_matrix, \"app_redis_qos_p99_latency_set\", similarity_filter = [\n",
    "    lambda x: x[x.abs() > c].dropna(axis=0, how='all'),\n",
    "])\n",
    "latency_corr"
   ]
  },
  {
   "cell_type": "code",
   "execution_count": null,
   "id": "4b42a3dd-fde8-458c-8d7a-1e969204a246",
   "metadata": {},
   "outputs": [],
   "source": [
    "display.plt_by_column(df_workload, columns=list(latency_corr.index))"
   ]
  }
 ],
 "metadata": {
  "kernelspec": {
   "display_name": "Python 3 (ipykernel)",
   "language": "python",
   "name": "python3"
  },
  "language_info": {
   "codemirror_mode": {
    "name": "ipython",
    "version": 3
   },
   "file_extension": ".py",
   "mimetype": "text/x-python",
   "name": "python",
   "nbconvert_exporter": "python",
   "pygments_lexer": "ipython3",
   "version": "3.11.4"
  }
 },
 "nbformat": 4,
 "nbformat_minor": 5
}
