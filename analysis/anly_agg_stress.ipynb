{
 "cells": [
  {
   "cell_type": "code",
   "execution_count": null,
   "id": "dee24310-2f95-4099-91d7-abde0bda5238",
   "metadata": {},
   "outputs": [],
   "source": [
    "import sys\n",
    "sys.path.append('./tool')\n",
    "\n",
    "from aggregation import *\n",
    "import analyze\n",
    "import display\n",
    "\n",
    "def plt_per_column(exp_root):\n",
    "    \n",
    "    exp_data = read_from_dir(exp_root)\n",
    "    exp_data.set_workload_preprocess_funcs([\n",
    "        filter_column_startswith(col_prefix=(\"container\")),\n",
    "        filter_column_useless(),\n",
    "        # filter_row_noise(col_prefix=(\"container\")),\n",
    "    ])\n",
    "\n",
    "    display.plt_by_column(exp_data.agg_epoch())"
   ]
  },
  {
   "cell_type": "markdown",
   "id": "ef0aee6d-9e0b-4444-aaeb-a11525fd3673",
   "metadata": {},
   "source": [
    "## 一、Cache"
   ]
  },
  {
   "cell_type": "code",
   "execution_count": null,
   "id": "2755b04e-7ea4-40ad-b121-8041763de185",
   "metadata": {},
   "outputs": [],
   "source": [
    "exp_root = \"/home/ict/appProfile/data/stress/same_cpu/cache_no_20231031130519\"\n",
    "plt_per_column(exp_root)"
   ]
  },
  {
   "cell_type": "markdown",
   "id": "eaf7c03a-16a5-4cd4-a24b-14cd037743ad",
   "metadata": {},
   "source": [
    "## 二、CPU"
   ]
  },
  {
   "cell_type": "code",
   "execution_count": null,
   "id": "5579e6b6-1592-40a1-b3c8-9159c6017b12",
   "metadata": {},
   "outputs": [],
   "source": [
    "exp_root = \"/home/ict/appProfile/data/stress/same_cpu/cpu_no_20231031132213\"\n",
    "plt_per_column(exp_root)"
   ]
  },
  {
   "cell_type": "markdown",
   "id": "af9fcabc-58dd-4966-8b9e-f2d743a58c12",
   "metadata": {},
   "source": [
    "## 三、IO"
   ]
  },
  {
   "cell_type": "code",
   "execution_count": null,
   "id": "17e46c44-23ea-4e59-9faf-61fb3af5f26e",
   "metadata": {},
   "outputs": [],
   "source": [
    "exp_root = \"/home/ict/appProfile/data/stress/same_cpu/io_no_20231031133331\"\n",
    "plt_per_column(exp_root)"
   ]
  },
  {
   "cell_type": "markdown",
   "id": "f3558fd2-22ad-4c7c-8ff5-2050186a5167",
   "metadata": {},
   "source": [
    "## 四、VM"
   ]
  },
  {
   "cell_type": "code",
   "execution_count": null,
   "id": "d26f5658-1b9f-4615-914e-af1a79a313d0",
   "metadata": {},
   "outputs": [],
   "source": [
    "exp_root = \"/home/ict/appProfile/data/stress/same_cpu/vm_no_20231031135026\"\n",
    "plt_per_column(exp_root)"
   ]
  },
  {
   "cell_type": "code",
   "execution_count": null,
   "id": "96dc84ed-9180-4d5b-a56b-63f94539dcbc",
   "metadata": {},
   "outputs": [],
   "source": [
    "# exp_root = \"/home/ict/appProfile/data/stress_test/same_cpuset/net_no_20231026122017\"\n",
    "# plt_per_column(exp_root)"
   ]
  }
 ],
 "metadata": {
  "kernelspec": {
   "display_name": "Python 3 (ipykernel)",
   "language": "python",
   "name": "python3"
  },
  "language_info": {
   "codemirror_mode": {
    "name": "ipython",
    "version": 3
   },
   "file_extension": ".py",
   "mimetype": "text/x-python",
   "name": "python",
   "nbconvert_exporter": "python",
   "pygments_lexer": "ipython3",
   "version": "3.11.4"
  }
 },
 "nbformat": 4,
 "nbformat_minor": 5
}
