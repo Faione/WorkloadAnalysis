{
 "cells": [
  {
   "cell_type": "code",
   "execution_count": null,
   "id": "0e2f762f-4d5f-47a3-86f3-6dc6a8377ecb",
   "metadata": {},
   "outputs": [],
   "source": [
    "import sys\n",
    "sys.path.append('./tool')\n",
    "\n",
    "from aggregation import *\n",
    "import analyze\n",
    "import display"
   ]
  },
  {
   "cell_type": "code",
   "execution_count": null,
   "id": "18f4016a-deb7-48dc-82a8-69b8a6c2bd2c",
   "metadata": {},
   "outputs": [],
   "source": [
    "exp_root = \"/home/ict/appProfile/data/same_cpu/redis_cpu_20231028084501\"\n",
    "qos_columns = [\n",
    "    \"app_redis_qos_qps_of_redis_get\",\n",
    "    \"app_redis_qos_qps_of_redis_total\",\n",
    "    \"app_redis_qos_qps_of_redis_set\",\n",
    "    \"app_redis_qos_p99_latency_set\",\n",
    "    \"app_redis_qos_p99_latency_get\",\n",
    "]\n",
    "\n",
    "exp_data = read_from_dir(exp_root)\n",
    "exp_data.set_workload_preprocess_funcs([\n",
    "    filter_column_startswith(col_prefix=(\"stress\", \"vm\", \"app\")),\n",
    "    filter_column_useless(excol_prefix=(\"stress\")),\n",
    "    filter_row_noise(col_prefix=(\"app\")),\n",
    "])\n",
    "\n",
    "df_epoch = exp_data.agg_epoch()\n",
    "df_epoch_group = df_epoch.groupby(df_epoch.index)\n",
    "keys = list(df_epoch_group.groups.keys())\n",
    "keys"
   ]
  },
  {
   "cell_type": "code",
   "execution_count": null,
   "id": "83b103a4-ec56-4b30-b6e5-9fa6d566598a",
   "metadata": {},
   "outputs": [],
   "source": [
    "# 选择 workload\n",
    "df_key = keys[6]\n",
    "# 选择QoS指标\n",
    "qos_column = qos_columns[3]\n",
    "# 相关性阈值\n",
    "c = 0.85\n",
    "\n",
    "df_workload = df_epoch_group.get_group(df_key)\n",
    "stress = list(df_workload.columns)[1]\n",
    "df_workload"
   ]
  },
  {
   "cell_type": "markdown",
   "id": "2fa33e95-4fab-4f87-b2b8-f44561a62081",
   "metadata": {},
   "source": [
    "# 一、干扰敏感度分析\n",
    "## (1) 劣化程度"
   ]
  },
  {
   "cell_type": "code",
   "execution_count": null,
   "id": "0c931bda-58af-4d24-85b2-19f1c0bb5141",
   "metadata": {},
   "outputs": [],
   "source": [
    "no_stress_exp_root = \"/home/ict/appProfile/data/addtion_exp/standard_stress_no_20231023023901\"\n",
    "no_stress_exp_data = read_from_dir(no_stress_exp_root)\n",
    "no_stress_exp_data.set_workload_preprocess_funcs([\n",
    "    filter_column_startswith(col_prefix=(\"vm\", \"app\")),\n",
    "    filter_column_useless(),\n",
    "    filter_row_noise(col_prefix=(\"app\")),\n",
    "])\n",
    "\n",
    "no_stress_df_epoch = no_stress_exp_data.agg_epoch()\n",
    "no_stress = no_stress_df_epoch.loc[[df_key]]\n",
    "\n",
    "# no_stress may have diffrent column\n",
    "common_columns = list(set(no_stress.columns).intersection(set(df_workload.columns)))\n",
    "no_stress = no_stress[common_columns]\n",
    "\n",
    "delta_df = df_workload[common_columns] - no_stress\n",
    "delta_df"
   ]
  },
  {
   "cell_type": "markdown",
   "id": "ecf90a5b-c9a2-43f2-b0f8-8dd662ba5733",
   "metadata": {},
   "source": [
    "### 1. QoS劣化与压力"
   ]
  },
  {
   "cell_type": "code",
   "execution_count": null,
   "id": "697add55-c57a-4964-95a2-2baebe37eef5",
   "metadata": {},
   "outputs": [],
   "source": [
    "percentage_df = 100 * delta_df / no_stress\n",
    "percentage_df[stress] = df_workload[stress]\n",
    "percentage_df.index = [f\"{stress.split('_', 1)[1]}_{i}\"for i in df_workload[stress]]\n",
    "display.plt_by_column(percentage_df, columns=qos_columns)"
   ]
  },
  {
   "cell_type": "markdown",
   "id": "8539ec0a-0722-4f46-afbb-5f4534181143",
   "metadata": {},
   "source": [
    "### 2. 其他指标劣化与压力"
   ]
  },
  {
   "cell_type": "code",
   "execution_count": null,
   "id": "9f260475-0d2d-4eee-bdde-5c27c570e8bc",
   "metadata": {},
   "outputs": [],
   "source": [
    "# 考虑percentage会有许多除数为0的情况，因此使用 delta\n",
    "delta_df[stress] = df_workload[stress]\n",
    "corr_matrix = analyze.cosine_similarity(delta_df)\n",
    "corr_matrix"
   ]
  },
  {
   "cell_type": "code",
   "execution_count": null,
   "id": "c23d9b05-c4d8-4845-826d-5d9e442ca810",
   "metadata": {},
   "outputs": [],
   "source": [
    "stress_corr = analyze.single_corr(corr_matrix, stress, similarity_filter = [\n",
    "    lambda x: x[x.abs() > c].dropna(axis=0, how='all'),\n",
    "    lambda x : x.drop(qos_columns, errors='ignore'),\n",
    "])\n",
    "stress_corr"
   ]
  },
  {
   "cell_type": "code",
   "execution_count": null,
   "id": "513b9342-9f29-4efb-b35b-acadd3c87d9c",
   "metadata": {},
   "outputs": [],
   "source": [
    "display.plt_by_column(delta_df.set_index(stress), columns=list(stress_corr.index), ncols=3)"
   ]
  },
  {
   "cell_type": "markdown",
   "id": "fe7f541a-2101-4890-a754-b4d790b174b5",
   "metadata": {},
   "source": [
    "### 3. QoS劣化与其他指标"
   ]
  },
  {
   "cell_type": "code",
   "execution_count": null,
   "id": "a5dc0142-9f67-49ed-8158-00ad0a7993cd",
   "metadata": {},
   "outputs": [],
   "source": [
    "qos_corr = analyze.single_corr(corr_matrix, qos_column, similarity_filter = [\n",
    "    lambda x : x[x.abs() > c].dropna(axis=0, how='all'),\n",
    "    lambda x : x.drop(qos_columns, errors='ignore'),\n",
    "])\n",
    "qos_corr"
   ]
  },
  {
   "cell_type": "code",
   "execution_count": null,
   "id": "ed09e93a-f695-4fc8-9284-2feedb9da458",
   "metadata": {},
   "outputs": [],
   "source": [
    "display.plt_by_column(delta_df, x_column=qos_column, columns=list(qos_corr.index), ncols=3)"
   ]
  },
  {
   "cell_type": "markdown",
   "id": "a2723909-291b-4542-a7cd-199bcdf8b58a",
   "metadata": {},
   "source": [
    "# 二、相关性分析"
   ]
  },
  {
   "cell_type": "markdown",
   "id": "721427cc-689b-434d-85e9-5e6d39a8a8d5",
   "metadata": {},
   "source": [
    "## (1) 皮尔逊相关性"
   ]
  },
  {
   "cell_type": "code",
   "execution_count": null,
   "id": "ee585e0f-baf2-486f-b60a-4f88ebc36ce9",
   "metadata": {},
   "outputs": [],
   "source": [
    "# corr_matrix = analyze.pearson_correlation(df_workload)\n",
    "# corr_matrix"
   ]
  },
  {
   "cell_type": "code",
   "execution_count": null,
   "id": "ddccd483-a6ee-4133-9015-fee2779343e8",
   "metadata": {},
   "outputs": [],
   "source": [
    "# display.plt_corr_heatmap(corr_matrix)"
   ]
  },
  {
   "cell_type": "markdown",
   "id": "3c724b33-a33d-4118-83c4-dcdb75604f33",
   "metadata": {},
   "source": [
    "### 1. 相关性排序"
   ]
  },
  {
   "cell_type": "code",
   "execution_count": null,
   "id": "331bbf2c-c1ce-44d7-8d81-728c6513fc58",
   "metadata": {},
   "outputs": [],
   "source": [
    "# 提取相关性大于 c 的指标对\n",
    "# c = 0.95\n",
    "# fcorr_df = analyze.flatten_corr(corr_matrix, similarity_filter = [\n",
    "#     lambda x: x[x.abs() > c].dropna(axis=0, how='all'),\n",
    "# ])\n",
    "# fcorr_df"
   ]
  },
  {
   "cell_type": "markdown",
   "id": "68cf60f4-be67-48fa-88c3-23dbb3987937",
   "metadata": {},
   "source": [
    "### 2. 与压力相关的指标"
   ]
  },
  {
   "cell_type": "code",
   "execution_count": null,
   "id": "2c674e92-12ac-45ad-a6e1-f0b4c37033c0",
   "metadata": {},
   "outputs": [],
   "source": [
    "# stress = \"stress_cache\"\n",
    "# c = 0.90\n",
    "# stress_corr = analyze.single_corr(corr_matrix, stress, similarity_filter = [\n",
    "#     lambda x: x[x.abs() > c].dropna(axis=0, how='all'),\n",
    "# ])\n",
    "# stress_corr"
   ]
  },
  {
   "cell_type": "code",
   "execution_count": null,
   "id": "d9157511-d90d-43da-b7b6-a2d9e707e1e7",
   "metadata": {},
   "outputs": [],
   "source": [
    "# display.plt_by_column(df_workload.set_index(stress), columns=list(stress_corr.index))"
   ]
  },
  {
   "cell_type": "markdown",
   "id": "d19f8cad-ca6a-4a4b-af9e-628dfe3358f1",
   "metadata": {},
   "source": [
    "## (2) 余弦相似性"
   ]
  },
  {
   "cell_type": "code",
   "execution_count": null,
   "id": "fac4c14e-c33f-4d28-b196-77cd5751face",
   "metadata": {},
   "outputs": [],
   "source": [
    "# corr_matrix = analyze.cosine_similarity(df_workload)\n",
    "# corr_matrix"
   ]
  },
  {
   "cell_type": "code",
   "execution_count": null,
   "id": "56470f6c-5ee1-4e85-a18b-54ddad5c76a4",
   "metadata": {},
   "outputs": [],
   "source": [
    "# display.plt_corr_heatmap(corr_matrix)"
   ]
  },
  {
   "cell_type": "markdown",
   "id": "35d574dc-60fd-45be-b425-df069f6a0dd7",
   "metadata": {},
   "source": [
    "### 1. 相关性排序"
   ]
  },
  {
   "cell_type": "code",
   "execution_count": null,
   "id": "8a8af872-3399-4bf7-a59c-e966b628c0ac",
   "metadata": {},
   "outputs": [],
   "source": [
    "# 提取相关性大于 c 的指标对\n",
    "# c = 0.95\n",
    "# fcorr_df = analyze.flatten_corr(corr_matrix, similarity_filter = [\n",
    "#     lambda x: x[x > c].dropna(axis=0, how='all'),\n",
    "# ])\n",
    "# fcorr_df"
   ]
  },
  {
   "cell_type": "code",
   "execution_count": null,
   "id": "9a74b030-834d-4cb6-99e6-de49de2735c2",
   "metadata": {},
   "outputs": [],
   "source": [
    "# stress = \"stress_cache\"\n",
    "# stress_corr = analyze.single_corr(corr_matrix, stress)\n",
    "# stress_corr"
   ]
  },
  {
   "cell_type": "code",
   "execution_count": null,
   "id": "d7ab47f5-104a-421d-8aa3-fc5d23c1ddf1",
   "metadata": {},
   "outputs": [],
   "source": [
    "# display.plt_by_column(df_workload.set_index(stress), columns=list(stress_corr.index)[:16])"
   ]
  }
 ],
 "metadata": {
  "kernelspec": {
   "display_name": "Python 3 (ipykernel)",
   "language": "python",
   "name": "python3"
  },
  "language_info": {
   "codemirror_mode": {
    "name": "ipython",
    "version": 3
   },
   "file_extension": ".py",
   "mimetype": "text/x-python",
   "name": "python",
   "nbconvert_exporter": "python",
   "pygments_lexer": "ipython3",
   "version": "3.11.4"
  }
 },
 "nbformat": 4,
 "nbformat_minor": 5
}
