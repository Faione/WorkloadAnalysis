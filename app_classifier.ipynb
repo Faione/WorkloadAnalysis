{
 "cells": [
  {
   "cell_type": "code",
   "execution_count": null,
   "id": "0f09278c",
   "metadata": {},
   "outputs": [],
   "source": [
    "import sys\n",
    "sys.path.append('.')\n",
    "\n",
    "import common\n",
    "from sklearn import tree\n",
    "import os\n",
    "\n",
    "\n",
    "root_dir = \"raw_data_2023_0719\"\n",
    "raw_data_perfix = \"2023_07_21_all\"\n",
    "\n",
    "raw_data_file_path = os.path.join(root_dir, raw_data_perfix + \".csv\")\n",
    "raw_time_splits_path = os.path.join(root_dir, raw_data_perfix + \".json\")\n",
    "\n",
    "X, Y, feature_names, class_names, apps = common.read_all_in_one_data(raw_data_file_path, raw_time_splits_path)"
   ]
  },
  {
   "cell_type": "code",
   "execution_count": null,
   "id": "ea1b45e1",
   "metadata": {},
   "outputs": [],
   "source": [
    "x_train, x_test, y_train, y_test = common.spilt_for_train_test(X, Y, mode=\"class\", apps=apps, app=\"redis\")\n",
    "# x_train, x_test, y_train, y_test = common.spilt_for_train_test(X, Y, mode=\"random\")"
   ]
  },
  {
   "cell_type": "code",
   "execution_count": null,
   "id": "7e6f13e5",
   "metadata": {
    "scrolled": true
   },
   "outputs": [],
   "source": [
    "# model optimization\n",
    "from sklearn.model_selection import cross_val_score\n",
    "from sklearn.model_selection import GridSearchCV\n",
    "\n",
    "cv = 3\n",
    "clf = tree.DecisionTreeClassifier()\n",
    "parameters = {'criterion': ['gini', 'entropy'],\n",
    "              'max_depth': [3, 5, 7],\n",
    "              'min_samples_split': [2, 4, 6],\n",
    "              'min_samples_leaf': [1, 3, 5, 7]}\n",
    "\n",
    "# scores = cross_val_score(clf, X, Y, cv=cv, scoring=\"f1_macro\")\n",
    "# for i in range(0, 32):\n",
    "grid_search = GridSearchCV(clf, parameters, cv=cv, scoring='f1_macro')\n",
    "grid_search.fit(x_train, y_train)\n",
    "\n",
    "best_model = grid_search.best_estimator_\n",
    "\n",
    "common.model_score(best_model, x_test, y_test)\n",
    "common.save_dt_to_png(f\"best_tree\", best_model, feature_names, class_names)"
   ]
  },
  {
   "cell_type": "code",
   "execution_count": null,
   "id": "eaa1bcb4",
   "metadata": {},
   "outputs": [],
   "source": [
    "from sklearn import svm\n",
    "\n",
    "clf = svm.SVC()\n",
    "clf = clf.fit(common.normalize(x_train), y_train)\n",
    "\n",
    "common.model_score(clf, common.normalize(x_test), y_test)"
   ]
  },
  {
   "cell_type": "code",
   "execution_count": null,
   "id": "e15ed61d",
   "metadata": {},
   "outputs": [],
   "source": [
    "from sklearn.cluster import KMeans\n",
    "import matplotlib.pyplot as plt\n",
    "\n",
    "random_state = 170\n",
    "\n",
    "common_params = {\n",
    "    \"n_init\": \"auto\",\n",
    "    \"random_state\": random_state,\n",
    "}\n",
    "\n",
    "y_pred = KMeans(n_clusters=8, **common_params).fit_predict(X)\n",
    "\n",
    "fig, axs = plt.subplots(nrows=2, ncols=2, figsize=(12, 12))\n",
    "axs[0, 0].scatter(X[:, 1], X[:, 2], c=y_pred)\n",
    "axs[0, 0].set_title(\"Non-optimal Number of Clusters\")\n",
    "\n",
    "axs[0, 1].scatter(X[:, 1], X[:, 3], c=y_pred)\n",
    "axs[0, 1].set_title(\"Non-optimal Number of Clusters\")\n",
    "\n",
    "axs[1, 0].scatter(X[:, 1], X[:, 4], c=y_pred)\n",
    "axs[1, 0].set_title(\"Non-optimal Number of Clusters\")\n",
    "\n",
    "axs[1, 1].scatter(X[:, 1], X[:, 5], c=y_pred)\n",
    "axs[1, 1].set_title(\"Non-optimal Number of Clusters\")"
   ]
  }
 ],
 "metadata": {
  "kernelspec": {
   "display_name": "Python 3 (ipykernel)",
   "language": "python",
   "name": "python3"
  },
  "language_info": {
   "codemirror_mode": {
    "name": "ipython",
    "version": 3
   },
   "file_extension": ".py",
   "mimetype": "text/x-python",
   "name": "python",
   "nbconvert_exporter": "python",
   "pygments_lexer": "ipython3",
   "version": "3.11.3"
  }
 },
 "nbformat": 4,
 "nbformat_minor": 5
}
