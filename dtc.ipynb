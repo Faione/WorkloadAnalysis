{
 "cells": [
  {
   "cell_type": "code",
   "execution_count": 11,
   "id": "8d4122c5",
   "metadata": {},
   "outputs": [],
   "source": [
    "import csv\n",
    "import os\n",
    "import numpy as np\n",
    "from sklearn import tree\n",
    "from sklearn.tree import export_text\n",
    "\n",
    "root_data_dir = \"raw_data_2023_0718\"\n",
    "header = []\n",
    "\n",
    "def get_avg(path):\n",
    "    with open(path, 'r', encoding='utf-8') as file:\n",
    "        reader = csv.reader(file)\n",
    "        # 跳过表头\n",
    "        global header \n",
    "        header = next(reader)[1:]\n",
    "        \n",
    "        # 跳过时间戳\n",
    "        data = []\n",
    "        for row in reader:\n",
    "            # 跳过含有空值的行\n",
    "            if len(row) > 0 and all(cell.strip() != '' for cell in row):\n",
    "                # 去除时间戳\n",
    "                data.append([float(e) for e in row[1:]])\n",
    "                \n",
    "    column_means = np.mean(np.array(data), axis=0)\n",
    "    return column_means\n",
    "\n",
    "def normalize(matrix):\n",
    "    matrix_std = np.std(matrix, axis=0)\n",
    "    matrix_mean = np.mean(matrix, axis=0)\n",
    "\n",
    "    zero_std_cols = np.where(matrix_std == 0)[0]\n",
    "\n",
    "    matrix_mean[zero_std_cols] = 0\n",
    "    matrix_std[zero_std_cols] = 1\n",
    "\n",
    "    return (matrix - matrix_mean) / matrix_std"
   ]
  },
  {
   "cell_type": "code",
   "execution_count": 12,
   "id": "6819b635",
   "metadata": {},
   "outputs": [],
   "source": [
    "app_data_dirs = [os.path.join(root_data_dir, dir_path) for dir_path in os.listdir(root_data_dir)]\n",
    "\n",
    "X = []\n",
    "Y = []\n",
    "app_names = []\n",
    "for data_dir in app_data_dirs:\n",
    "    if not os.path.isdir(data_dir):\n",
    "        continue\n",
    "    for file in os.listdir(data_dir):\n",
    "        file_path = os.path.join(data_dir, file)\n",
    "        if not os.path.isfile(file_path):\n",
    "            continue\n",
    "        X.append(get_avg(file_path))\n",
    "        Y.append(len(app_names))\n",
    "        \n",
    "    app_names.append(os.path.basename(data_dir))\n",
    "\n",
    "# no need for dts\n",
    "# X = normalize(X)"
   ]
  },
  {
   "cell_type": "code",
   "execution_count": 13,
   "id": "09aaf4cd",
   "metadata": {},
   "outputs": [
    {
     "name": "stdout",
     "output_type": "stream",
     "text": [
      "|--- host_network_io_bytes_transmit <= 2721717.50\n",
      "|   |--- class: mysql\n",
      "|--- host_network_io_bytes_transmit >  2721717.50\n",
      "|   |--- class: redis\n",
      "\n"
     ]
    }
   ],
   "source": [
    "clf = tree.DecisionTreeClassifier()\n",
    "clf = clf.fit(X, Y)\n",
    "\n",
    "r = export_text(clf, feature_names=header, class_names=app_names)\n",
    "print(r)"
   ]
  }
 ],
 "metadata": {
  "kernelspec": {
   "display_name": "Python 3 (ipykernel)",
   "language": "python",
   "name": "python3"
  },
  "language_info": {
   "codemirror_mode": {
    "name": "ipython",
    "version": 3
   },
   "file_extension": ".py",
   "mimetype": "text/x-python",
   "name": "python",
   "nbconvert_exporter": "python",
   "pygments_lexer": "ipython3",
   "version": "3.11.3"
  }
 },
 "nbformat": 4,
 "nbformat_minor": 5
}
