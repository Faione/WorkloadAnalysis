{
 "cells": [
  {
   "cell_type": "code",
   "execution_count": 1,
   "id": "4eeb0534-4955-4fc2-9516-9fded1a617a4",
   "metadata": {},
   "outputs": [],
   "source": [
    "import matplotlib.pyplot as plt\n",
    "import seaborn as sns\n",
    "from aggregation import *\n",
    "import pandas as pd\n",
    "import analysis\n",
    "\n",
    "# exp_root = \"/home/ict/appProfile/data/addtion_exp/standard_stress_cpu_20231023164753/\"\n",
    "# exp_data = read_from_dir(exp_root)\n",
    "\n",
    "# # 清楚预处理\n",
    "# exp_data.set_workload_preprocess_funcs(df_funcs=[])\n",
    "\n",
    "metrics = [\n",
    "    \"app_redis_qos_qps_of_redis_set\",\n",
    "    \"host_cache_llc_capacity_numa_2\"\n",
    "]\n",
    "metrics_remap = {\n",
    "    \"app_redis_qos_qps_of_redis_set\": \"Metric1 (%)\",\n",
    "    \"host_cache_llc_capacity_numa_2\": \"Metric2 (%)\"\n",
    "}\n",
    "\n",
    "# analysis.draw_boxs_only_intensity(\n",
    "#     exp_data,\n",
    "#     app=\"redis\",\n",
    "#     metrics=metrics,\n",
    "#     metrics_remap=metrics_remap,\n",
    "#     sub_dir=\"data/20231026\"\n",
    "# )\n",
    "\n",
    "# exp_no = read_from_dir(\"/home/ict/appProfile/data/addtion_exp/standard_stress_no_20231023023901/\")\n",
    "exp_cpu = read_from_dir(\"/home/ict/appProfile/data/addtion_exp/standard_stress_cpu_20231023164753/\")\n",
    "exp_cache = read_from_dir(\"/home/ict/appProfile/data/addtion_exp/standard_stress_cache_20231023055534/\")\n",
    "exp_io = read_from_dir(\"/home/ict/appProfile/data/addtion_exp/standard_stress_io_20231023083904/\")\n",
    "exp_net = read_from_dir(\"/home/ict/appProfile/data/addtion_exp/standard_stress_net_20231023140654/\")\n",
    "\n",
    "# exp_no.set_workload_preprocess_funcs(df_funcs=[])\n",
    "exp_cpu.set_workload_preprocess_funcs(df_funcs=[])\n",
    "exp_cache.set_workload_preprocess_funcs(df_funcs=[])\n",
    "exp_io.set_workload_preprocess_funcs(df_funcs=[])\n",
    "exp_net.set_workload_preprocess_funcs(df_funcs=[])\n",
    "\n",
    "exps_datas = {\n",
    "    # \"no\": exp_no,\n",
    "    \"cpu\": exp_cpu,\n",
    "    \"cache\": exp_cache,\n",
    "    \"io\": exp_io,\n",
    "    \"net\": exp_net\n",
    "}\n",
    "\n",
    "analysis.draw_boxs_for_all_interfrence(\n",
    "    exps_datas,\n",
    "    app=\"redis\",\n",
    "    metrics=metrics,\n",
    "    metrics_remap=metrics_remap,\n",
    "    sub_dir=\"data/20231026/interfrence\"\n",
    ")\n",
    "\n"
   ]
  },
  {
   "cell_type": "code",
   "execution_count": null,
   "id": "2582b9a9-f104-4b2f-8ba5-3329599f618b",
   "metadata": {},
   "outputs": [],
   "source": []
  }
 ],
 "metadata": {
  "kernelspec": {
   "display_name": "Python 3 (ipykernel)",
   "language": "python",
   "name": "python3"
  },
  "language_info": {
   "codemirror_mode": {
    "name": "ipython",
    "version": 3
   },
   "file_extension": ".py",
   "mimetype": "text/x-python",
   "name": "python",
   "nbconvert_exporter": "python",
   "pygments_lexer": "ipython3",
   "version": "3.11.4"
  }
 },
 "nbformat": 4,
 "nbformat_minor": 5
}
