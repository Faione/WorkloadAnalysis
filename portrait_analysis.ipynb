{
 "cells": [
  {
   "cell_type": "code",
   "execution_count": 1,
   "id": "c21c8eb0-d6a0-4d7f-85c3-c6bdaf5c49b6",
   "metadata": {},
   "outputs": [
    {
     "name": "stdout",
     "output_type": "stream",
     "text": [
      "开始刻画场景no_stress,指标总数253\n",
      "加载数据进度: 1.00\n",
      "开始图片绘制,图片路径：data/test/preview/no_stress.png\n",
      "图片绘制结束\n",
      "刻画场景no_stress完成\n",
      "开始刻画场景mem_stress,指标总数309\n",
      "加载数据进度: 1.00\n",
      "开始图片绘制,图片路径：data/test/preview/mem_stress.png\n",
      "图片绘制结束\n",
      "刻画场景mem_stress完成\n",
      "开始刻画场景cpu_stress,指标总数331\n",
      "加载数据进度: 1.00\n",
      "开始图片绘制,图片路径：data/test/preview/cpu_stress.png\n",
      "图片绘制结束\n",
      "刻画场景cpu_stress完成\n"
     ]
    }
   ],
   "source": [
    "import numpy as np\n",
    "import pandas as pd\n",
    "import matplotlib.pyplot as plt\n",
    "import yaml\n",
    "import json\n",
    "import re\n",
    "import os\n",
    "import analysis\n",
    "from matplotlib.dates import DateFormatter\n",
    "from datetime import datetime\n",
    "\n",
    "import openpyxl\n",
    "from openpyxl.utils import get_column_letter\n",
    "\n",
    "with open(\"protrait_data_config.yaml\", 'r') as f:\n",
    "    cfg = yaml.load(f, Loader=yaml.FullLoader)\n",
    "\n",
    "# analysis.metric_list(cfg)\n",
    "\n",
    "analysis.preview(\n",
    "    cfg,\n",
    "    metrics=[\n",
    "\"host_cpu_usage_system\",\n",
    "\"host_cpu_usage_user\",\n",
    "\"host_memory_mem_bandwidth_local_numa_2\",\n",
    "\"host_memory_mem_bandwidth_total_numa_2\",\n",
    "\"host_memory_usage_not_contain_cache_and_buffer_not_contain_cache_and_buffer\",\n",
    "\"host_memory_usage_contain_cache_and_buffer_contain_cache_and_buffer\",\n",
    "\"vm_hypervisor_emulator_syscall_duration_recvmsg\",\n",
    "\"vm_hypervisor_emulator_syscall_duration_sendmsg\",\n",
    "\"vm_cpu_time_sys\",\n",
    "\"vm_cpu_time_user\",\n",
    "\"vm_cpu_vcpu_time_per_seconds_vcpu\",\n",
    "\"vm_cpu_context_switch_context_switch\",\n",
    "\"vm_cpu_branch_ips\",\n",
    "\"vm_cpu_cycle_per_instruction_cpi\",\n",
    "\"vm_cpu_instructions_per_second_ins\",\n",
    "\"vm_cpu_branch_miss_per_branch_instructions\",\n",
    "\"vm_cache_misses_per_thousand_instructions\",\n",
    "\"vm_cache_last-level_cache_capacity_vm_occupancy_numa_2\",\n",
    "\"vm_mem_usage\",\n",
    "\"vm_mem_bandwidth_local_local_numa_2\",\n",
    "\"vm_mem_bandwidth_local_total_numa_2\",\n",
    "\"vm_network_io_bytes_receive\",\n",
    "\"vm_network_io_bytes_transmit\",\n",
    "\"vm_network_io_packets_receive\",\n",
    "\"vm_network_io_packets_transmit\",\n",
    "\"vm_block_io_bytes_io_write\",\n",
    "\"vm_block_io_requests_write\",\n",
    "\"vm_block_io_time_write\",\n",
    "\"vm_block_io_flush_request_and_time_request_vda\",\n",
    "\"vm_block_io_flush_request_and_time_time_vda\",\n",
    "\"app_redis_qos_qps_of_redis_get\",\n",
    "\"app_redis_qos_qps_of_redis_set\",\n",
    "\"app_redis_qos_qps_of_redis_total\",\n",
    "\"app_redis_qos_p99_latency_set\",\n",
    "\"app_redis_qos_p99_latency_get\",\n",
    "\"app\",\n",
    "\"workload\",\n",
    "\"count\",\n",
    "\"mem_stress\",\n",
    "\"cpu_stress\",\n",
    "\"cpu_load_stress\"\n",
    "    ]\n",
    ")\n",
    "\n",
    "\n",
    "# analysis.protrait_metric(cfg)"
   ]
  },
  {
   "cell_type": "code",
   "execution_count": 1,
   "id": "db920fc8-0526-4e2f-a5ea-ee5d2bb5b536",
   "metadata": {},
   "outputs": [
    {
     "ename": "NameError",
     "evalue": "name 'analysis' is not defined",
     "output_type": "error",
     "traceback": [
      "\u001b[0;31m---------------------------------------------------------------------------\u001b[0m",
      "\u001b[0;31mNameError\u001b[0m                                 Traceback (most recent call last)",
      "Cell \u001b[0;32mIn[1], line 1\u001b[0m\n\u001b[0;32m----> 1\u001b[0m \u001b[43manalysis\u001b[49m\u001b[38;5;241m.\u001b[39mall_metrics_list(cfg)\n",
      "\u001b[0;31mNameError\u001b[0m: name 'analysis' is not defined"
     ]
    }
   ],
   "source": [
    "analysis.all_metrics_list(cfg)"
   ]
  },
  {
   "cell_type": "code",
   "execution_count": null,
   "id": "546deb58-71c1-4afb-bd64-02869123657b",
   "metadata": {},
   "outputs": [],
   "source": []
  }
 ],
 "metadata": {
  "kernelspec": {
   "display_name": "Python 3 (ipykernel)",
   "language": "python",
   "name": "python3"
  },
  "language_info": {
   "codemirror_mode": {
    "name": "ipython",
    "version": 3
   },
   "file_extension": ".py",
   "mimetype": "text/x-python",
   "name": "python",
   "nbconvert_exporter": "python",
   "pygments_lexer": "ipython3",
   "version": "3.11.4"
  }
 },
 "nbformat": 4,
 "nbformat_minor": 5
}
