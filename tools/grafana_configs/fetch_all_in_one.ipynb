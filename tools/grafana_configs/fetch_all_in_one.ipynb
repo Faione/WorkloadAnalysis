{
 "cells": [
  {
   "cell_type": "code",
   "execution_count": 1,
   "id": "c64bc3bd-d8a6-4f52-bf41-72ef861e53f6",
   "metadata": {},
   "outputs": [],
   "source": [
    "import sys\n",
    "sys.path.append('.')\n",
    "\n",
    "import prometheus\n",
    "import grafana\n",
    "\n",
    "\n",
    "grafana_auth = \"admin:admin@\"\n",
    "grafana_server = \"10.208.130.243:3001\"\n",
    "prom_server = \"10.208.130.243:9090\"\n",
    "aio_db = \"all_in_one\"\n",
    "\n",
    "\n",
    "pclient = prometheus.client(prom_server)\n",
    "gclient = grafana.client(grafana_server, grafana_auth)\n",
    "targets = gclient.get_db(aio_db)[\"panels\"][0][\"targets\"]\n",
    "\n",
    "start = 1694085622\n",
    "end = 1694090122\n",
    "step = \"4s\"\n",
    "\n",
    "merged_path = \"merged.csv\"\n",
    "pclient.targets_to_df(targets, start, end, step).to_csv(merged_path)"
   ]
  }
 ],
 "metadata": {
  "kernelspec": {
   "display_name": "Python 3 (ipykernel)",
   "language": "python",
   "name": "python3"
  },
  "language_info": {
   "codemirror_mode": {
    "name": "ipython",
    "version": 3
   },
   "file_extension": ".py",
   "mimetype": "text/x-python",
   "name": "python",
   "nbconvert_exporter": "python",
   "pygments_lexer": "ipython3",
   "version": "3.11.4"
  }
 },
 "nbformat": 4,
 "nbformat_minor": 5
}
