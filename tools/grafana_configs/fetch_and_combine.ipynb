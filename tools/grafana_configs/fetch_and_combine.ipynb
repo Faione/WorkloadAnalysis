{
 "cells": [
  {
   "cell_type": "code",
   "execution_count": 11,
   "id": "cec6a843-a7bc-4bbe-b2fa-fa4704aa41a6",
   "metadata": {},
   "outputs": [],
   "source": [
    "import sys\n",
    "sys.path.append('.')\n",
    "\n",
    "import os\n",
    "import config_parser\n",
    "import json\n",
    "\n",
    "config_root = \"configs\"\n",
    "grafana_raw_json = [\"host.json\", \"vm.json\"]\n",
    "files = [os.path.join(config_root, f) for f in grafana_raw_json]\n",
    "\n",
    "targets = [config_parser.read_targets(file) for file in files]\n",
    "\n",
    "aio_json = \"all_in_one.json\"\n",
    "with open(os.path.join(config_root, aio_json), 'r') as f:\n",
    "    data = json.load(f)\n",
    "\n",
    "    try:\n",
    "        data[\"panels\"][0][\"targets\"] = targets\n",
    "    except:\n",
    "        print(\"invalid grafana format\")\n",
    "        sys.exit(1)\n",
    "\n",
    "with open(aio_json, 'w') as f:\n",
    "    json.dump(data, f)"
   ]
  }
 ],
 "metadata": {
  "kernelspec": {
   "display_name": "Python 3 (ipykernel)",
   "language": "python",
   "name": "python3"
  },
  "language_info": {
   "codemirror_mode": {
    "name": "ipython",
    "version": 3
   },
   "file_extension": ".py",
   "mimetype": "text/x-python",
   "name": "python",
   "nbconvert_exporter": "python",
   "pygments_lexer": "ipython3",
   "version": "3.11.4"
  }
 },
 "nbformat": 4,
 "nbformat_minor": 5
}
