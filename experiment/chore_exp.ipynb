{
 "cells": [
  {
   "cell_type": "code",
   "execution_count": null,
   "id": "4ea776d7-0f91-4400-b2cb-c8b4f996fbe1",
   "metadata": {},
   "outputs": [],
   "source": [
    "import json\n",
    "import os\n",
    "import pprint"
   ]
  },
  {
   "cell_type": "code",
   "execution_count": null,
   "id": "52cd2e4f-3b52-47ab-b4e7-c3ba2a52a6a7",
   "metadata": {},
   "outputs": [],
   "source": [
    "root_dir = \"/home/ict/appProfile/data/addtion_exp\"\n",
    "exps =  [os.path.join(root_dir, dir) for dir in os.listdir(root_dir) if dir != \".ipynb_checkpoints\"]\n",
    "exps"
   ]
  },
  {
   "cell_type": "code",
   "execution_count": null,
   "id": "d3447e1e-7896-468e-b6b2-daf11f8b6f17",
   "metadata": {},
   "outputs": [],
   "source": [
    "pp = pprint.PrettyPrinter(indent=2)\n",
    "for dir in exps: \n",
    "    with open(os.path.join(dir, \"old.exp.json\"), 'r') as f:\n",
    "        data = json.load(f)\n",
    "        try:\n",
    "            if data['n_epoch'] != len(data['info_per_epoch']):\n",
    "                 data['n_epoch'] = len(data['info_per_epoch'])\n",
    "        except:\n",
    "            print(dir)\n",
    "            \n",
    "    \n",
    "        info_per_epoch = []\n",
    "        for epoch_info in data['info_per_epoch']:  \n",
    "            new_epoch_info = {}\n",
    "            if \"stress\" in epoch_info:\n",
    "                new_epoch_info = {\"stress\": epoch_info[\"stress\"]}\n",
    "                del  epoch_info[\"stress\"]\n",
    "            for k,v in epoch_info.items():\n",
    "                if \"addition\" in v:\n",
    "                    del v[\"addition\"]\n",
    "                    if \"stress\" in new_epoch_info:\n",
    "                        v[\"stress\"] = new_epoch_info[\"stress\"]\n",
    "            new_epoch_info[\"workloads\"] = epoch_info\n",
    "            info_per_epoch.append(new_epoch_info)\n",
    "        data['info_per_epoch'] = info_per_epoch\n",
    "    with open(os.path.join(dir, \"exp.json\"), 'w') as f:\n",
    "        json.dump(data, f)\n",
    "    pp.pprint(data)\n",
    "        "
   ]
  }
 ],
 "metadata": {
  "kernelspec": {
   "display_name": "Python 3 (ipykernel)",
   "language": "python",
   "name": "python3"
  },
  "language_info": {
   "codemirror_mode": {
    "name": "ipython",
    "version": 3
   },
   "file_extension": ".py",
   "mimetype": "text/x-python",
   "name": "python",
   "nbconvert_exporter": "python",
   "pygments_lexer": "ipython3",
   "version": "3.11.4"
  }
 },
 "nbformat": 4,
 "nbformat_minor": 5
}
