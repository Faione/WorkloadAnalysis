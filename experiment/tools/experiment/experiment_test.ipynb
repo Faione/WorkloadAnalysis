{
 "cells": [
  {
   "cell_type": "code",
   "execution_count": 1,
   "id": "395ab08a-03f9-444a-b7b6-7804c63517d4",
   "metadata": {},
   "outputs": [],
   "source": [
    "from experiment import *\n",
    "from executor import *\n",
    "\n",
    "logger = logging.getLogger()\n",
    "logger.setLevel(logging.INFO)"
   ]
  },
  {
   "cell_type": "code",
   "execution_count": 2,
   "id": "4f5575a9-183f-4051-83fb-748226325050",
   "metadata": {},
   "outputs": [],
   "source": [
    "wexec = WorkloadExecutor(**{\n",
    "    \"cmd_base\": \"docker exec -it redis-client-1 memtier_benchmark\",\n",
    "    \"workload_name\": \"redis\",\n",
    "    \"warmup_cmd\": \"docker exec -it redis-client-1 memtier_benchmark -s envoy --test-time 10\",\n",
    "    \"opt_interval\": 0,\n",
    "}\n",
    ").with_flag(\n",
    "    \"-s\", [\"envoy\"]\n",
    ").with_flag(\n",
    "    \"--test-time\", [120]\n",
    ").with_flag(\n",
    "    \"-t\", [100, 120]\n",
    ")\n",
    "\n",
    "sexec = StressExecutor(**{\n",
    "    \"cmd_base\": \"ssh fhl@worknode-01 sudo podman run\",\n",
    "    \"flag_base\": \"-d --rm --cpuset-cpus 40-59,125-139 localhost/my-stress-ng:v0.1 --memrate-rd-mbs 1000 --memrate-wr-mbs 1000\",\n",
    "    \"stop_cmd\": \"ssh fhl@worknode-01 sudo podman stop\",\n",
    "    \"type\": \"mem\",\n",
    "    \"opt_interval\": 0,\n",
    "}\n",
    ").with_flag(\n",
    "    \"--memrate_range\", range(1, 20, 10)\n",
    ").with_flag(\n",
    "    \"memrate_byte\", [\"1G\"]\n",
    ")\n"
   ]
  },
  {
   "cell_type": "code",
   "execution_count": 5,
   "id": "a9e72342-6b51-46d5-a607-035afba92e84",
   "metadata": {},
   "outputs": [
    {
     "name": "stderr",
     "output_type": "stream",
     "text": [
      "INFO:root:1698028251 experiment start\n",
      "INFO:root:run: docker exec -it redis-client-1 memtier_benchmark -s envoy --test-time 10\n",
      "INFO:root:run: docker exec -it redis-client-1 memtier_benchmark  -s envoy --test-time 120 -t 100\n",
      "INFO:root:run: docker exec -it redis-client-1 memtier_benchmark -s envoy --test-time 10\n",
      "INFO:root:run: docker exec -it redis-client-1 memtier_benchmark  -s envoy --test-time 120 -t 120\n",
      "INFO:root:20231023023051 experiment end\n"
     ]
    },
    {
     "name": "stdout",
     "output_type": "stream",
     "text": [
      "test_stress_no_20231023023051\n"
     ]
    },
    {
     "data": {
      "text/plain": [
       "{'mode': 'test',\n",
       " 'date_format': '%Y%m%d%H%M%S',\n",
       " 'start_time': 1698028251,\n",
       " 'end_time': 1698028251,\n",
       " 'total_time': 0,\n",
       " 'n_epoch': 1,\n",
       " 'info_per_workload': {'redis_0': {'info_per_epoch': [{'start_time': 1698028251,\n",
       "     'run_cmd': 'docker exec -it redis-client-1 memtier_benchmark  -s envoy --test-time 120 -t 100',\n",
       "     'end_time': 1698028251,\n",
       "     'name': 'redis_0',\n",
       "     'addition': {}}]},\n",
       "  'redis_1': {'info_per_epoch': [{'start_time': 1698028251,\n",
       "     'run_cmd': 'docker exec -it redis-client-1 memtier_benchmark  -s envoy --test-time 120 -t 120',\n",
       "     'end_time': 1698028251,\n",
       "     'name': 'redis_1',\n",
       "     'addition': {}}]}},\n",
       " 'info_per_epoch': [{'redis_0': {'start_time': 1698028251,\n",
       "    'run_cmd': 'docker exec -it redis-client-1 memtier_benchmark  -s envoy --test-time 120 -t 100',\n",
       "    'end_time': 1698028251,\n",
       "    'name': 'redis_0',\n",
       "    'addition': {}},\n",
       "   'redis_1': {'start_time': 1698028251,\n",
       "    'run_cmd': 'docker exec -it redis-client-1 memtier_benchmark  -s envoy --test-time 120 -t 120',\n",
       "    'end_time': 1698028251,\n",
       "    'name': 'redis_1',\n",
       "    'addition': {}}}]}"
      ]
     },
     "execution_count": 5,
     "metadata": {},
     "output_type": "execute_result"
    }
   ],
   "source": [
    "exp = Experiment(**{\n",
    "    \"mode\": \"test\",\n",
    "    \"n_epoch\": 1,\n",
    "})\n",
    "\n",
    "exp.run(wexec, None, interval=0)\n",
    "print(exp.dir_name())\n",
    "exp.__dict__"
   ]
  },
  {
   "cell_type": "code",
   "execution_count": 6,
   "id": "c4c3153f-ceba-4005-ab8d-b0af568261a7",
   "metadata": {},
   "outputs": [
    {
     "name": "stderr",
     "output_type": "stream",
     "text": [
      "INFO:root:1698028256 experiment start\n",
      "INFO:root:run: ssh fhl@worknode-01 sudo podman run --name stress_mem -d --rm --cpuset-cpus 40-59,125-139 localhost/my-stress-ng:v0.1 --memrate-rd-mbs 1000 --memrate-wr-mbs 1000 --memrate_range 1 memrate_byte 1G\n",
      "INFO:root:run: docker exec -it redis-client-1 memtier_benchmark -s envoy --test-time 10\n",
      "INFO:root:run: docker exec -it redis-client-1 memtier_benchmark  -s envoy --test-time 120 -t 100\n",
      "INFO:root:run: docker exec -it redis-client-1 memtier_benchmark -s envoy --test-time 10\n",
      "INFO:root:run: docker exec -it redis-client-1 memtier_benchmark  -s envoy --test-time 120 -t 120\n",
      "INFO:root:run: ssh fhl@worknode-01 sudo podman stop stress_mem\n",
      "INFO:root:run: ssh fhl@worknode-01 sudo podman run --name stress_mem -d --rm --cpuset-cpus 40-59,125-139 localhost/my-stress-ng:v0.1 --memrate-rd-mbs 1000 --memrate-wr-mbs 1000 --memrate_range 11 memrate_byte 1G\n",
      "INFO:root:run: docker exec -it redis-client-1 memtier_benchmark -s envoy --test-time 10\n",
      "INFO:root:run: docker exec -it redis-client-1 memtier_benchmark  -s envoy --test-time 120 -t 100\n",
      "INFO:root:run: docker exec -it redis-client-1 memtier_benchmark -s envoy --test-time 10\n",
      "INFO:root:run: docker exec -it redis-client-1 memtier_benchmark  -s envoy --test-time 120 -t 120\n",
      "INFO:root:run: ssh fhl@worknode-01 sudo podman stop stress_mem\n",
      "INFO:root:20231023023056 experiment end\n"
     ]
    },
    {
     "name": "stdout",
     "output_type": "stream",
     "text": [
      "test_stress_mem_20231023023056\n"
     ]
    },
    {
     "data": {
      "text/plain": [
       "{'mode': 'test',\n",
       " 'date_format': '%Y%m%d%H%M%S',\n",
       " 'start_time': 1698028256,\n",
       " 'end_time': 1698028256,\n",
       " 'total_time': 0,\n",
       " 'n_epoch': 0,\n",
       " 'info_per_workload': {'redis_0': {'info_per_epoch': [{'start_time': 1698028256,\n",
       "     'run_cmd': 'docker exec -it redis-client-1 memtier_benchmark  -s envoy --test-time 120 -t 100',\n",
       "     'end_time': 1698028256,\n",
       "     'name': 'redis_0',\n",
       "     'addition': {'stress': {'mem': {'memrate_range': '1',\n",
       "        'memrate_byte': '1G'}}}},\n",
       "    {'start_time': 1698028256,\n",
       "     'run_cmd': 'docker exec -it redis-client-1 memtier_benchmark  -s envoy --test-time 120 -t 100',\n",
       "     'end_time': 1698028256,\n",
       "     'name': 'redis_0',\n",
       "     'addition': {'stress': {'mem': {'memrate_range': '11',\n",
       "        'memrate_byte': '1G'}}}}]},\n",
       "  'redis_1': {'info_per_epoch': [{'start_time': 1698028256,\n",
       "     'run_cmd': 'docker exec -it redis-client-1 memtier_benchmark  -s envoy --test-time 120 -t 120',\n",
       "     'end_time': 1698028256,\n",
       "     'name': 'redis_1',\n",
       "     'addition': {'stress': {'mem': {'memrate_range': '1',\n",
       "        'memrate_byte': '1G'}}}},\n",
       "    {'start_time': 1698028256,\n",
       "     'run_cmd': 'docker exec -it redis-client-1 memtier_benchmark  -s envoy --test-time 120 -t 120',\n",
       "     'end_time': 1698028256,\n",
       "     'name': 'redis_1',\n",
       "     'addition': {'stress': {'mem': {'memrate_range': '11',\n",
       "        'memrate_byte': '1G'}}}}]}},\n",
       " 'info_per_epoch': [{'stress': {'mem': {'memrate_range': '1',\n",
       "     'memrate_byte': '1G'}},\n",
       "   'redis_0': {'start_time': 1698028256,\n",
       "    'run_cmd': 'docker exec -it redis-client-1 memtier_benchmark  -s envoy --test-time 120 -t 100',\n",
       "    'end_time': 1698028256,\n",
       "    'name': 'redis_0',\n",
       "    'addition': {'stress': {'mem': {'memrate_range': '1',\n",
       "       'memrate_byte': '1G'}}}},\n",
       "   'redis_1': {'start_time': 1698028256,\n",
       "    'run_cmd': 'docker exec -it redis-client-1 memtier_benchmark  -s envoy --test-time 120 -t 120',\n",
       "    'end_time': 1698028256,\n",
       "    'name': 'redis_1',\n",
       "    'addition': {'stress': {'mem': {'memrate_range': '1',\n",
       "       'memrate_byte': '1G'}}}}},\n",
       "  {'stress': {'mem': {'memrate_range': '11', 'memrate_byte': '1G'}},\n",
       "   'redis_0': {'start_time': 1698028256,\n",
       "    'run_cmd': 'docker exec -it redis-client-1 memtier_benchmark  -s envoy --test-time 120 -t 100',\n",
       "    'end_time': 1698028256,\n",
       "    'name': 'redis_0',\n",
       "    'addition': {'stress': {'mem': {'memrate_range': '11',\n",
       "       'memrate_byte': '1G'}}}},\n",
       "   'redis_1': {'start_time': 1698028256,\n",
       "    'run_cmd': 'docker exec -it redis-client-1 memtier_benchmark  -s envoy --test-time 120 -t 120',\n",
       "    'end_time': 1698028256,\n",
       "    'name': 'redis_1',\n",
       "    'addition': {'stress': {'mem': {'memrate_range': '11',\n",
       "       'memrate_byte': '1G'}}}}}]}"
      ]
     },
     "execution_count": 6,
     "metadata": {},
     "output_type": "execute_result"
    }
   ],
   "source": [
    "exp = Experiment(**{\n",
    "    \"mode\": \"test\",\n",
    "})\n",
    "\n",
    "exp.run(wexec, sexec, interval=0)\n",
    "print(exp.dir_name())\n",
    "exp.__dict__"
   ]
  },
  {
   "cell_type": "code",
   "execution_count": null,
   "id": "f533f251-8e5a-4b7b-92e8-f964ebda06b8",
   "metadata": {},
   "outputs": [],
   "source": []
  }
 ],
 "metadata": {
  "kernelspec": {
   "display_name": "Python 3 (ipykernel)",
   "language": "python",
   "name": "python3"
  },
  "language_info": {
   "codemirror_mode": {
    "name": "ipython",
    "version": 3
   },
   "file_extension": ".py",
   "mimetype": "text/x-python",
   "name": "python",
   "nbconvert_exporter": "python",
   "pygments_lexer": "ipython3",
   "version": "3.11.4"
  }
 },
 "nbformat": 4,
 "nbformat_minor": 5
}
