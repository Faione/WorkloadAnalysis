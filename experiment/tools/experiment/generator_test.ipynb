{
 "cells": [
  {
   "cell_type": "code",
   "execution_count": 1,
   "id": "b19c6558-0615-4f3a-b710-ac6af214e97a",
   "metadata": {},
   "outputs": [],
   "source": [
    "from generator import *\n"
   ]
  },
  {
   "cell_type": "code",
   "execution_count": 2,
   "id": "74c9f6f5-e796-43aa-a826-91ec57a76634",
   "metadata": {},
   "outputs": [
    {
     "data": {
      "text/plain": [
       "['docker exec -it redis-client-1 memtier_benchmark -s envoy --test-time 120 -t 100',\n",
       " 'docker exec -it redis-client-1 memtier_benchmark -s envoy --test-time 120 -t 101']"
      ]
     },
     "execution_count": 2,
     "metadata": {},
     "output_type": "execute_result"
    }
   ],
   "source": [
    "workloads = Flags(\n",
    "    flag_base =\"docker exec -it redis-client-1 memtier_benchmark\"\n",
    "    ).with_flag(flag=\"-s\", vranges=[\"envoy\"]\n",
    "    ).with_flag(flag=\"--test-time\", vranges=[\"120\"]\n",
    "    ).with_flag(flag=\"-t\", vranges=[100, 101]).flag_list()\n",
    "workloads"
   ]
  },
  {
   "cell_type": "code",
   "execution_count": 3,
   "id": "fd649b57-93af-4316-80ef-f4b4514524ff",
   "metadata": {},
   "outputs": [
    {
     "name": "stdout",
     "output_type": "stream",
     "text": [
      "podman run --name stress_mem -d --rm --cpuset-cpus 40-59,125-139 localhost/my-stress-ng:v0.1  --memrate-rd-mbs 1000 --memrate-wr-mbs 1000 --memrate_range 1 --memrate_byte 1G\n"
     ]
    }
   ],
   "source": [
    "streses = Flags(\n",
    "    flag_base=\"podman run --name stress_mem -d --rm --cpuset-cpus 40-59,125-139 localhost/my-stress-ng:v0.1  --memrate-rd-mbs 1000 --memrate-wr-mbs 1000\"\n",
    "    ).with_flag(flag=\"--memrate_range\", vranges=range(1, 2, 1)\n",
    "    ).with_flag(flag=\"--memrate_byte\", vranges=[\"1G\"]\n",
    "    )\n",
    "for stress_flag in streses.iter():\n",
    "    print(stress_flag)"
   ]
  },
  {
   "cell_type": "code",
   "execution_count": 4,
   "id": "c20c9821-95d9-4115-bcdc-752dc7d70f74",
   "metadata": {},
   "outputs": [
    {
     "data": {
      "text/plain": [
       "[]"
      ]
     },
     "execution_count": 4,
     "metadata": {},
     "output_type": "execute_result"
    }
   ],
   "source": [
    "streses = Flags(\n",
    "    flag_base=\"podman run --name stress_mem -d --rm --cpuset-cpus 40-59,125-139 localhost/my-stress-ng:v0.1  --memrate-rd-mbs 1000 --memrate-wr-mbs 1000\"\n",
    "    ).flag_list()\n",
    "streses"
   ]
  },
  {
   "cell_type": "code",
   "execution_count": null,
   "id": "9b6dc8f5-dd09-4f1f-a11f-710bfa5c1917",
   "metadata": {},
   "outputs": [],
   "source": []
  }
 ],
 "metadata": {
  "kernelspec": {
   "display_name": "Python 3 (ipykernel)",
   "language": "python",
   "name": "python3"
  },
  "language_info": {
   "codemirror_mode": {
    "name": "ipython",
    "version": 3
   },
   "file_extension": ".py",
   "mimetype": "text/x-python",
   "name": "python",
   "nbconvert_exporter": "python",
   "pygments_lexer": "ipython3",
   "version": "3.11.4"
  }
 },
 "nbformat": 4,
 "nbformat_minor": 5
}
