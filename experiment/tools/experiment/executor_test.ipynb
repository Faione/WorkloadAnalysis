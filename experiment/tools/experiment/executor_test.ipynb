{
 "cells": [
  {
   "cell_type": "code",
   "execution_count": 1,
   "id": "51cdc9d6-0c9b-4d00-b7d9-cb76742a7d0d",
   "metadata": {},
   "outputs": [],
   "source": [
    "from executor import *\n",
    "import logging\n",
    "\n",
    "logger = logging.getLogger()\n",
    "logger.setLevel(logging.INFO)"
   ]
  },
  {
   "cell_type": "code",
   "execution_count": 2,
   "id": "c0b0c4b9-d56e-4bf3-981d-05b01d6d89a3",
   "metadata": {},
   "outputs": [
    {
     "name": "stderr",
     "output_type": "stream",
     "text": [
      "INFO:root:run: docker exec -it redis-client-1 memtier_benchmark -s envoy --test-time 10\n",
      "INFO:root:run: docker exec -it redis-client-1 memtier_benchmark  -s envoy --test-time 120 -t 100\n",
      "INFO:root:run: docker exec -it redis-client-1 memtier_benchmark -s envoy --test-time 10\n",
      "INFO:root:run: docker exec -it redis-client-1 memtier_benchmark  -s envoy --test-time 120 -t 120\n"
     ]
    },
    {
     "name": "stdout",
     "output_type": "stream",
     "text": [
      "{'start_time': 1698028187, 'run_cmd': 'docker exec -it redis-client-1 memtier_benchmark  -s envoy --test-time 120 -t 100', 'end_time': 1698028187}\n",
      "{'start_time': 1698028187, 'run_cmd': 'docker exec -it redis-client-1 memtier_benchmark  -s envoy --test-time 120 -t 120', 'end_time': 1698028187}\n"
     ]
    }
   ],
   "source": [
    "wexec = WorkloadExecutor(**{\n",
    "    \"cmd_base\": \"docker exec -it redis-client-1 memtier_benchmark\",\n",
    "    \"workload_name\": \"redis\",\n",
    "    \"warmup_cmd\": \"docker exec -it redis-client-1 memtier_benchmark -s envoy --test-time 10\",\n",
    "    \"opt_interval\": 0,\n",
    "}\n",
    ").with_flag(\n",
    "    \"-s\", [\"envoy\"]\n",
    ").with_flag(\n",
    "    \"--test-time\", [120]\n",
    ").with_flag(\n",
    "    \"-t\", [100, 120]\n",
    ")\n",
    "for flag in wexec.iter():\n",
    "    with wexec as we:\n",
    "        info = we.exec(flag=flag)\n",
    "        print(info)"
   ]
  },
  {
   "cell_type": "code",
   "execution_count": 3,
   "id": "12ba5104-6f34-4f8c-ab38-017d697032a6",
   "metadata": {},
   "outputs": [
    {
     "name": "stderr",
     "output_type": "stream",
     "text": [
      "INFO:root:run: ssh fhl@worknode-01 sudo podman run --name stress_mem -d --rm --cpuset-cpus 40-59,125-139 localhost/my-stress-ng:v0.1 --memrate-rd-mbs 1000 --memrate-wr-mbs 1000 --memrate_range 1 memrate_byte 1G\n",
      "INFO:root:run: ssh fhl@worknode-01 sudo podman stop stress_mem\n",
      "INFO:root:run: ssh fhl@worknode-01 sudo podman run --name stress_mem -d --rm --cpuset-cpus 40-59,125-139 localhost/my-stress-ng:v0.1 --memrate-rd-mbs 1000 --memrate-wr-mbs 1000 --memrate_range 11 memrate_byte 1G\n",
      "INFO:root:run: ssh fhl@worknode-01 sudo podman stop stress_mem\n"
     ]
    },
    {
     "name": "stdout",
     "output_type": "stream",
     "text": [
      "{'mem': {'memrate_range': '1', 'memrate_byte': '1G'}}\n",
      "{'mem': {'memrate_range': '11', 'memrate_byte': '1G'}}\n"
     ]
    }
   ],
   "source": [
    "sexec = StressExecutor(**{\n",
    "    \"cmd_base\": \"ssh fhl@worknode-01 sudo podman run\",\n",
    "    \"flag_base\": \"-d --rm --cpuset-cpus 40-59,125-139 localhost/my-stress-ng:v0.1 --memrate-rd-mbs 1000 --memrate-wr-mbs 1000\",\n",
    "    \"stop_cmd\": \"ssh fhl@worknode-01 sudo podman stop\",\n",
    "    \"type\": \"mem\",\n",
    "    \"opt_interval\": 0,\n",
    "}\n",
    ").with_flag(\n",
    "    \"--memrate_range\", range(1, 20, 10)\n",
    ").with_flag(\n",
    "    \"memrate_byte\", [\"1G\"]\n",
    ")\n",
    "\n",
    "for flag in sexec.iter():\n",
    "    with sexec as se:\n",
    "        info = se.exec(flag=flag)\n",
    "        print(info)"
   ]
  },
  {
   "cell_type": "code",
   "execution_count": 4,
   "id": "39cbac3b-970c-4a59-9241-334fd8beb1e5",
   "metadata": {},
   "outputs": [],
   "source": [
    "sexec = StressExecutor(**{\n",
    "    \"cmd_base\": \"ssh fhl@worknode-01 sudo podman run\",\n",
    "    \"flag_base\": \"-d --rm --cpuset-cpus 40-59,125-139 localhost/my-stress-ng:v0.1 --memrate-rd-mbs 1000 --memrate-wr-mbs 1000\",\n",
    "    \"stop_cmd\": \"ssh fhl@worknode-01 sudo podman stop\",\n",
    "    \"type\": \"mem\",\n",
    "    \"opt_interval\": 0,\n",
    "}\n",
    ")\n",
    "with sexec as se:\n",
    "    for flag in se.iter():\n",
    "        info = se.exec(flag=flag)\n",
    "        print(info)"
   ]
  },
  {
   "cell_type": "code",
   "execution_count": null,
   "id": "229b117a-7017-498b-be11-949ebc55b8cd",
   "metadata": {},
   "outputs": [],
   "source": []
  }
 ],
 "metadata": {
  "kernelspec": {
   "display_name": "Python 3 (ipykernel)",
   "language": "python",
   "name": "python3"
  },
  "language_info": {
   "codemirror_mode": {
    "name": "ipython",
    "version": 3
   },
   "file_extension": ".py",
   "mimetype": "text/x-python",
   "name": "python",
   "nbconvert_exporter": "python",
   "pygments_lexer": "ipython3",
   "version": "3.11.4"
  }
 },
 "nbformat": 4,
 "nbformat_minor": 5
}
