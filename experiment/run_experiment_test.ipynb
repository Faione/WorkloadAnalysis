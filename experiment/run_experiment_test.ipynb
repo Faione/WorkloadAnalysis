{
 "cells": [
  {
   "cell_type": "code",
   "execution_count": 1,
   "id": "bd0d7278-bc23-4ca1-a14c-fbcb2f8fb66a",
   "metadata": {},
   "outputs": [],
   "source": [
    "import sys\n",
    "from run_experiment import *"
   ]
  },
  {
   "cell_type": "code",
   "execution_count": 2,
   "id": "aa93f9db-3d5f-4f53-8952-dfe1f3c36b9a",
   "metadata": {},
   "outputs": [
    {
     "name": "stderr",
     "output_type": "stream",
     "text": [
      "WARNING:root:yrange format invalid or empty\n",
      "WARNING:root:yrange format invalid or empty\n"
     ]
    },
    {
     "name": "stdout",
     "output_type": "stream",
     "text": [
      "yrange_to_range passed\n"
     ]
    }
   ],
   "source": [
    "# Test yrange_to_range\n",
    "\n",
    "yrange_test_cases = [\n",
    "    {\"input\": [1, 2, 3, 4], \"output\": [1, 2, 3, 4]},\n",
    "    {\"input\": {\"end\": 4}, \"output\": [0, 1, 2, 3]},\n",
    "    {\"input\": {\"start\": 1, \"end\": 4}, \"output\": [1, 2, 3]},\n",
    "    {\"input\": {\"start\": 1, \"end\": 4, \"step\": 3}, \"output\": [1]},\n",
    "    {\"input\": {\"start\": 1, \"end\": 4, \"step\": 1, \"map\": \"lambda x : 2**x\"}, \"output\": [2, 4, 8]},\n",
    "    \n",
    "    # error test\n",
    "    {\"input\": {\"start\": 1}, \"output\": []},\n",
    "    {\"input\": 1, \"output\": []},\n",
    "]\n",
    "\n",
    "for case in yrange_test_cases:\n",
    "    assert yrange_to_range(case[\"input\"]) == case[\"output\"]\n",
    "\n",
    "print(\"yrange_to_range passed\")"
   ]
  },
  {
   "cell_type": "code",
   "execution_count": 3,
   "id": "b212ad98-cb4e-4d85-b3dc-3992816469f7",
   "metadata": {},
   "outputs": [
    {
     "name": "stdout",
     "output_type": "stream",
     "text": [
      "{'start_time': 0, 'end_time': 0, 'total_time': 0, 'n_epoch': 0, 'date_format': 'timestamp', 'info_per_workload': {}, 'info_per_epoch': [], 'name': ''}\n",
      "{'name': 'workload_executor', 'type': 'redis', 'opt_interval': 60, 'flag_ranges': {'-s': ['envoy'], '--test-time': [160], '-t': [1, 2, 4, 8, 16, 32, 64, 128, 256]}, 'flag_base': '', 'cmd_base': 'docker exec -it redis-client-1 memtier_benchmark', 'warmup_cmd': 'docker exec -it redis-client-1 memtier_benchmark -s envoy --test-time 10'}\n",
      "{'name': 'stress_executor', 'type': 'cache', 'opt_interval': 60, 'flag_ranges': {'--cache': [1, 2, 4, 8, 16, 32]}, 'flag_base': '-d --rm --cpuset-cpus 120-123 localhost/my-stress-ng:v0.1', 'cmd_base': 'ssh fhl@worknode-01 sudo podman run', 'stop_cmd': 'ssh fhl@worknode-01 sudo podman stop', 'runnig': False}\n",
      "{'start_time': 0, 'end_time': 0, 'total_time': 0, 'n_epoch': 0, 'date_format': 'timestamp', 'info_per_workload': {}, 'info_per_epoch': [], 'name': ''}\n",
      "{'name': 'workload_executor', 'type': 'redis', 'opt_interval': 60, 'flag_ranges': {'-s': ['envoy'], '--test-time': [160], '-t': [1, 2, 4, 8, 16, 32, 64, 128, 256]}, 'flag_base': '', 'cmd_base': 'docker exec -it redis-client-1 memtier_benchmark', 'warmup_cmd': 'docker exec -it redis-client-1 memtier_benchmark -s envoy --test-time 10'}\n",
      "{'name': 'stress_executor', 'type': 'cache', 'opt_interval': 60, 'flag_ranges': {'--cache': [1, 2, 4, 8, 16, 32]}, 'flag_base': '-d --rm --cpuset-cpus 120-123 localhost/my-stress-ng:v0.1', 'cmd_base': 'ssh fhl@worknode-01 sudo podman run', 'stop_cmd': 'ssh fhl@worknode-01 sudo podman stop', 'runnig': False}\n",
      "{'start_time': 0, 'end_time': 0, 'total_time': 0, 'n_epoch': 0, 'date_format': 'timestamp', 'info_per_workload': {}, 'info_per_epoch': [], 'name': ''}\n",
      "{'name': 'workload_executor', 'type': 'redis', 'opt_interval': 60, 'flag_ranges': {'-s': ['envoy'], '--test-time': [160], '-t': [1, 2, 4, 8, 16, 32, 64, 128, 256]}, 'flag_base': '', 'cmd_base': 'docker exec -it redis-client-1 memtier_benchmark', 'warmup_cmd': 'docker exec -it redis-client-1 memtier_benchmark -s envoy --test-time 10'}\n",
      "{'name': 'stress_executor', 'type': 'io', 'opt_interval': 60, 'flag_ranges': {'--iomix': [1, 2, 4, 8, 16, 32]}, 'flag_base': '-d --rm --cpuset-cpus 120-123 localhost/my-stress-ng:v0.1', 'cmd_base': 'ssh fhl@worknode-01 sudo podman run', 'stop_cmd': 'ssh fhl@worknode-01 sudo podman stop', 'runnig': False}\n",
      "{'start_time': 0, 'end_time': 0, 'total_time': 0, 'n_epoch': 0, 'date_format': 'timestamp', 'info_per_workload': {}, 'info_per_epoch': [], 'name': ''}\n",
      "{'name': 'workload_executor', 'type': 'redis', 'opt_interval': 60, 'flag_ranges': {'-s': ['envoy'], '--test-time': [160], '-t': [1, 2, 4, 8, 16, 32, 64, 128, 256]}, 'flag_base': '', 'cmd_base': 'docker exec -it redis-client-1 memtier_benchmark', 'warmup_cmd': 'docker exec -it redis-client-1 memtier_benchmark -s envoy --test-time 10'}\n",
      "{'name': 'stress_executor', 'type': 'net', 'opt_interval': 60, 'flag_ranges': {'--sock': [1, 2, 4, 8, 16, 32]}, 'flag_base': '-d --rm --cpuset-cpus 120-123 localhost/my-stress-ng:v0.1', 'cmd_base': 'ssh fhl@worknode-01 sudo podman run', 'stop_cmd': 'ssh fhl@worknode-01 sudo podman stop', 'runnig': False}\n",
      "{'start_time': 0, 'end_time': 0, 'total_time': 0, 'n_epoch': 0, 'date_format': 'timestamp', 'info_per_workload': {}, 'info_per_epoch': [], 'name': ''}\n",
      "{'name': 'workload_executor', 'type': 'redis', 'opt_interval': 60, 'flag_ranges': {'-s': ['envoy'], '--test-time': [160], '-t': [1, 2, 4, 8, 16, 32, 64, 128, 256]}, 'flag_base': '', 'cmd_base': 'docker exec -it redis-client-1 memtier_benchmark', 'warmup_cmd': 'docker exec -it redis-client-1 memtier_benchmark -s envoy --test-time 10'}\n",
      "{'name': 'stress_executor', 'type': 'vm', 'opt_interval': 60, 'flag_ranges': {'--vm': [1, 2, 4, 8, 16, 32]}, 'flag_base': '-d --rm --cpuset-cpus 120-123 localhost/my-stress-ng:v0.1', 'cmd_base': 'ssh fhl@worknode-01 sudo podman runk', 'stop_cmd': 'ssh fhl@worknode-01 sudo podman stop', 'runnig': False}\n"
     ]
    }
   ],
   "source": [
    "exp_yaml = \"conf/experiment_same_cpu.yaml\"\n",
    "\n",
    "with open(exp_yaml, 'r') as f:\n",
    "    file_data = f.read()    \n",
    "    cfg = yaml.load(file_data, yaml.FullLoader)\n",
    "    # cfg = yaml.load(file_data)\n",
    "    \n",
    "if \"default_opt_interval\" in cfg:\n",
    "    DEFAULT_OPT_INTERVAL = cfg[\"default_opt_interval\"]\n",
    "\n",
    "workload_exec_cfgs = cfg[\"workload_exec\"]\n",
    "stress_exec_cfgs = [{}]\n",
    "if \"stress_exec\" in cfg:\n",
    "    stress_exec_cfgs = cfg[\"stress_exec\"]\n",
    "\n",
    "exp = exp_from_yaml(cfg[\"experiment\"])\n",
    "data_root = cfg[\"data_root\"]\n",
    "for workload_exec_cfg in workload_exec_cfgs:\n",
    "    for stress_exec_cfg in stress_exec_cfgs:\n",
    "        if \"opt_interval\" not in workload_exec_cfg:\n",
    "            workload_exec_cfg[\"opt_interval\"] = DEFAULT_OPT_INTERVAL\n",
    "        if stress_exec_cfg != {} and \"opt_interval\" not in stress_exec_cfg:\n",
    "            stress_exec_cfg[\"opt_interval\"] = DEFAULT_OPT_INTERVAL \n",
    "        \n",
    "        workload_exec = workload_exec_from_yaml(workload_exec_cfg)\n",
    "        stress_exec = stress_exec_from_yaml(stress_exec_cfg)\n",
    "        print(exp.__dict__)\n",
    "        print(workload_exec.__dict__)\n",
    "        print(stress_exec.__dict__)"
   ]
  },
  {
   "cell_type": "code",
   "execution_count": 4,
   "id": "fdbd6fda-9074-4cbc-b6d0-70db93bc7f26",
   "metadata": {},
   "outputs": [],
   "source": [
    "# data_root = cfg[\"data_root\"]\n",
    "\n",
    "# dir_path = os.path.join(data_root, exp.dir_name())\n",
    "# print(dir_path)\n",
    "# if not os.path.exists(dir_path):\n",
    "#     os.mkdir(dir_path)\n",
    "\n",
    "# with open(os.path.join(dir_path, cfg[\"experiment\"][\"save_file\"]), 'w') as f:\n",
    "#     json.dump(exp.__dict__, f)\n",
    "\n",
    "# with open(os.path.join(dir_path, cfg[\"workload_exec\"][\"save_file\"]), 'w') as f:\n",
    "#     json.dump(workload_exec.info_per_workload, f)"
   ]
  },
  {
   "cell_type": "code",
   "execution_count": 5,
   "id": "49406b5f-1541-477f-bfb4-90bff628288e",
   "metadata": {},
   "outputs": [],
   "source": [
    "# import json\n",
    "# with open(\"/home/ict/appProfile/data/standard_stress_no_20231016091241/exp.json\", \"r\") as f:\n",
    "#     print(f.readlines())\n",
    "    # exp = json.load(f)"
   ]
  },
  {
   "cell_type": "code",
   "execution_count": 6,
   "id": "107435bb-297e-42c2-b37d-4eebaffeafe8",
   "metadata": {},
   "outputs": [],
   "source": [
    "# ## Collet Data\n",
    "# grafana_auth = cfg[\"collect\"][\"grafana\"][\"auth\"]\n",
    "# grafana_server = cfg[\"collect\"][\"grafana\"][\"server\"]\n",
    "# prom_server = cfg[\"collect\"][\"prometheus\"][\"server\"]\n",
    "# aio_db = cfg[\"collect\"][\"query\"][\"dashboard\"]\n",
    "# step = cfg[\"collect\"][\"query\"][\"step\"]\n",
    "# dash_boards = cfg[\"collect\"][\"query\"][\"dashboard\"]\n",
    "\n",
    "# pclient = prometheus.client(prom_server)\n",
    "# gclient = grafana.client(grafana_server, grafana_auth)\n",
    "\n",
    "# db_datas = [gclient.get_db(db) for db in dash_boards]\n",
    "# assert len(db_datas) > 0, \"no prometheus data collect\"\n",
    "\n",
    "# if \"aio\" in dash_boards:\n",
    "#     logging.warning(\"while aio dashboard is existing, only fetching aio data\")\n",
    "#     dash_boards = [\"aio\"]\n",
    "\n",
    "# targets = []\n",
    "# if len(dash_boards) == 1 and dash_boards[0] == \"aio\":\n",
    "#     # assert it is aio\n",
    "#     targets = db_datas[0][\"panels\"][0][\"targets\"]\n",
    "# else:\n",
    "#     for db_data in db_datas:\n",
    "#         targets = targets + config_parser.read_targets_from_json(db_data)\n",
    "\n",
    "# df = pclient.targets_to_df(targets, exp.start_time, exp.end_time, step)\n",
    "# print(df.info())\n",
    "# df.to_csv(os.path.join(dir_path, cfg[\"collect\"][\"save_file\"]))"
   ]
  },
  {
   "cell_type": "code",
   "execution_count": null,
   "id": "bee2e64a-c179-41ca-9f8d-91cba71f8c7d",
   "metadata": {},
   "outputs": [],
   "source": []
  }
 ],
 "metadata": {
  "kernelspec": {
   "display_name": "Python 3 (ipykernel)",
   "language": "python",
   "name": "python3"
  },
  "language_info": {
   "codemirror_mode": {
    "name": "ipython",
    "version": 3
   },
   "file_extension": ".py",
   "mimetype": "text/x-python",
   "name": "python",
   "nbconvert_exporter": "python",
   "pygments_lexer": "ipython3",
   "version": "3.11.4"
  }
 },
 "nbformat": 4,
 "nbformat_minor": 5
}
