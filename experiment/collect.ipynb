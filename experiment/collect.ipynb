{
 "cells": [
  {
   "cell_type": "code",
   "execution_count": 1,
   "id": "aa8e68db-692c-464c-a4a5-488b14102842",
   "metadata": {},
   "outputs": [
    {
     "name": "stderr",
     "output_type": "stream",
     "text": [
      "INFO:root:from 1696646256 to 1696685629, total: 10.937h\n",
      "INFO:root:split to 1 batchs\n",
      "INFO:root:all data fetched\n",
      "INFO:root:all data formatted\n"
     ]
    },
    {
     "name": "stdout",
     "output_type": "stream",
     "text": [
      "<class 'pandas.core.frame.DataFrame'>\n",
      "RangeIndex: 9844 entries, 0 to 9843\n",
      "Columns: 347 entries, Time to app_redis_qos_p99_latency_get\n",
      "dtypes: int64(1), object(346)\n",
      "memory usage: 26.1+ MB\n",
      "None\n"
     ]
    }
   ],
   "source": [
    "import sys\n",
    "import os\n",
    "import json\n",
    "import pandas as pd\n",
    "\n",
    "sys.path.append('./tools/experiment')\n",
    "sys.path.append('./tools/client')\n",
    "\n",
    "import prometheus\n",
    "import grafana\n",
    "import experiment\n",
    "import logging\n",
    "\n",
    "logger = logging.getLogger()\n",
    "logger.setLevel(logging.INFO)\n",
    "\n",
    "grafana_auth = \"admin:admin@\"\n",
    "grafana_server = \"10.208.130.243:3001\"\n",
    "prom_server = \"10.208.130.243:9090\"\n",
    "aio_db = \"aio\"\n",
    "step = \"4s\"\n",
    "\n",
    "pclient = prometheus.client(prom_server)\n",
    "gclient = grafana.client(grafana_server, grafana_auth)\n",
    "targets = gclient.get_db(aio_db)[\"panels\"][0][\"targets\"]\n",
    "\n",
    "data_root = \"/home/ict/appProfile/data\"\n",
    "data_dir = os.path.join(data_root, \"standard_stress_no_1696646256\")\n",
    "exp_file = os.path.join(data_dir, \"exp.json\")\n",
    "date_file = os.path.join(data_dir, \"date.json\")\n",
    "\n",
    "with open(exp_file) as f:\n",
    "    exp_data = json.load(f)\n",
    "\n",
    "df = pclient.targets_to_df(targets, exp_data[\"start_time\"], exp_data[\"end_time\"], step)\n",
    "print(df.info())\n",
    "df.to_csv(os.path.join(data_dir, \"merged.csv\"))"
   ]
  },
  {
   "cell_type": "code",
   "execution_count": null,
   "id": "22d223a2-8dcb-4152-a806-b31eecf8d475",
   "metadata": {},
   "outputs": [],
   "source": []
  }
 ],
 "metadata": {
  "kernelspec": {
   "display_name": "Python 3 (ipykernel)",
   "language": "python",
   "name": "python3"
  },
  "language_info": {
   "codemirror_mode": {
    "name": "ipython",
    "version": 3
   },
   "file_extension": ".py",
   "mimetype": "text/x-python",
   "name": "python",
   "nbconvert_exporter": "python",
   "pygments_lexer": "ipython3",
   "version": "3.11.4"
  }
 },
 "nbformat": 4,
 "nbformat_minor": 5
}
