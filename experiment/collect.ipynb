{
 "cells": [
  {
   "cell_type": "code",
   "execution_count": 1,
   "id": "c259bcbe-57c9-4c04-994c-0785a66cc966",
   "metadata": {},
   "outputs": [],
   "source": [
    "import sys\n",
    "import os\n",
    "import json\n",
    "import pandas as pd\n",
    "\n",
    "sys.path.append('./tools/experiment')\n",
    "sys.path.append('./tools/client')\n",
    "\n",
    "import prometheus\n",
    "import grafana\n",
    "import experiment\n",
    "\n",
    "data_root = \"/home/ict/appProfile/data\"\n",
    "grafana_url_base = \"http://localhost:13001/d/aio/allinone?orgId=1\""
   ]
  },
  {
   "cell_type": "code",
   "execution_count": 14,
   "id": "b934711a-33a7-47ea-a53c-7cc1bf6ed98c",
   "metadata": {},
   "outputs": [],
   "source": [
    "class Workload:\n",
    "    descriptor = \"\"\n",
    "    start_time = 0\n",
    "    end_time = 0\n",
    "    url = \"\"\n",
    "    log = \"\"\n",
    "    execute = {}\n",
    "    addtion = {}\n",
    "\n",
    "    def __init__(self, descriptor=\"\", start_time=0, end_time=0, url=\"\", log=\"\", execute={}, addtion={}):\n",
    "        self.descriptor = descriptor\n",
    "        self.start_time = start_time\n",
    "        self.end_time = end_time\n",
    "        self.log = log\n",
    "        self.execute = execute\n",
    "        self.addtion = addtion\n",
    "\n",
    "    def to_dict(self):\n",
    "        return {\n",
    "            \"descriptor\": self.descriptor,\n",
    "            \"start_time\": self.start_time,\n",
    "            \"end_time\": self.end_time,\n",
    "            \"url\": self.url,\n",
    "            \"log\": self.log,\n",
    "            \"execute\": self.execute,\n",
    "            \"addtion\": self.addtion\n",
    "        }"
   ]
  },
  {
   "cell_type": "code",
   "execution_count": 15,
   "id": "aed69819-14fd-4347-b4f0-18865fc2be6b",
   "metadata": {},
   "outputs": [
    {
     "ename": "TypeError",
     "evalue": "'Workload' object does not support item assignment",
     "output_type": "error",
     "traceback": [
      "\u001b[0;31m---------------------------------------------------------------------------\u001b[0m",
      "\u001b[0;31mTypeError\u001b[0m                                 Traceback (most recent call last)",
      "Cell \u001b[0;32mIn[15], line 26\u001b[0m\n\u001b[1;32m     24\u001b[0m     \u001b[38;5;28;01mif\u001b[39;00m \u001b[38;5;28mlen\u001b[39m(exp\u001b[38;5;241m.\u001b[39mstress_info_per_epoch) \u001b[38;5;241m!=\u001b[39m \u001b[38;5;241m0\u001b[39m:\n\u001b[1;32m     25\u001b[0m         \u001b[38;5;28;01mfor\u001b[39;00m i, e \u001b[38;5;129;01min\u001b[39;00m \u001b[38;5;28menumerate\u001b[39m(info_time_ranges[k]):\n\u001b[0;32m---> 26\u001b[0m             \u001b[43me\u001b[49m\u001b[43m[\u001b[49m\u001b[38;5;124;43m\"\u001b[39;49m\u001b[38;5;124;43maddition\u001b[39;49m\u001b[38;5;124;43m\"\u001b[39;49m\u001b[43m]\u001b[49m \u001b[38;5;241m=\u001b[39m {\n\u001b[1;32m     27\u001b[0m                 \u001b[38;5;124m\"\u001b[39m\u001b[38;5;124mmetric\u001b[39m\u001b[38;5;124m\"\u001b[39m: qos_infos[i],\n\u001b[1;32m     28\u001b[0m                 \u001b[38;5;124m\"\u001b[39m\u001b[38;5;124mstress\u001b[39m\u001b[38;5;124m\"\u001b[39m: exp\u001b[38;5;241m.\u001b[39mstress_info_per_epoch[i]\n\u001b[1;32m     29\u001b[0m             }\n\u001b[1;32m     31\u001b[0m info_time_ranges\n",
      "\u001b[0;31mTypeError\u001b[0m: 'Workload' object does not support item assignment"
     ]
    }
   ],
   "source": [
    "exp = experiment.Experiment(\n",
    "    mode=\"standard\",\n",
    "    start_time = 202309250000,\n",
    "    end_time = 202309251111,\n",
    ").with_mem_stress(\n",
    "    memrate_range = range(1, 2),\n",
    ")\n",
    "\n",
    "# Workload/Benchmark info from benchmark log\n",
    "start = 1695597616000\n",
    "end = 1695608266000\n",
    "\n",
    "\n",
    "workload = Workload(**{\"descriptor\": \"redis\", \"start_time\": start, \"end_time\": end, \"url\": f\"{grafana_url_base}&from={start}&to={end}\", \"log\": \"\"})\n",
    "info_time_ranges = {\"redis\": [workload]}\n",
    "\n",
    "# Client Bench Metric info from bench result\n",
    "qos_info = {\"qps\": 10000, \"p95_latency\": 113}\n",
    "qos_infos = [qos_info]\n",
    "\n",
    "\n",
    "# Stress info from experiment setting\n",
    "for k, v in info_time_ranges.items():\n",
    "    if len(exp.stress_info_per_epoch) != 0:\n",
    "        for i, e in enumerate(info_time_ranges[k]):\n",
    "            e[\"addition\"] = {\n",
    "                \"metric\": qos_infos[i],\n",
    "                \"stress\": exp.stress_info_per_epoch[i]\n",
    "            }\n",
    "\n",
    "info_time_ranges"
   ]
  },
  {
   "cell_type": "code",
   "execution_count": 3,
   "id": "e362c12f-c4f3-4812-8c7f-4712de49e16d",
   "metadata": {},
   "outputs": [],
   "source": [
    "grafana_auth = \"admin:admin@\"\n",
    "grafana_server = \"10.208.130.243:3001\"\n",
    "prom_server = \"10.208.130.243:9090\"\n",
    "aio_db = \"aio\"\n",
    "step = \"4s\"\n",
    "\n",
    "pclient = prometheus.client(prom_server)\n",
    "gclient = grafana.client(grafana_server, grafana_auth)\n",
    "targets = gclient.get_db(aio_db)[\"panels\"][0][\"targets\"]\n",
    "\n",
    "dfs = [pclient.targets_to_df(targets, info[\"start_time\"] / 1000, info[\"end_time\"] / 1000, step) for info in v for k, v in info_time_ranges.items()]"
   ]
  },
  {
   "cell_type": "code",
   "execution_count": 4,
   "id": "b091cf10-6771-4513-a311-0d42e62259a4",
   "metadata": {},
   "outputs": [],
   "source": [
    "combined = pd.concat(dfs).fillna(0).sort_values(by=['Time'])\n",
    "combined = combined.reset_index()\n",
    "combined[\"Time\"] = combined[\"Time\"] * 1000"
   ]
  },
  {
   "cell_type": "code",
   "execution_count": 6,
   "id": "889f3ec9-82a5-46c6-a7e0-9ecc03301fca",
   "metadata": {},
   "outputs": [],
   "source": [
    "# save to data dir\n",
    "dir_path = os.path.join(data_root, exp.dir_name())\n",
    "if not os.path.exists(dir_path):\n",
    "    os.mkdir(dir_path)\n",
    "combined.to_csv(os.path.join(dir_path, \"merged.csv\"))\n",
    "\n",
    "with open(os.path.join(dir_path, \"exp.json\"), 'w') as f:\n",
    "    json.dump(exp.to_dict(), f)\n",
    "\n",
    "with open(os.path.join(dir_path, \"date.json\"), 'w') as f:\n",
    "    json.dump(info_time_ranges, f)"
   ]
  },
  {
   "cell_type": "code",
   "execution_count": null,
   "id": "51d06d84-24a2-41e4-9f45-ba61fa41e73a",
   "metadata": {},
   "outputs": [],
   "source": []
  }
 ],
 "metadata": {
  "kernelspec": {
   "display_name": "Python 3 (ipykernel)",
   "language": "python",
   "name": "python3"
  },
  "language_info": {
   "codemirror_mode": {
    "name": "ipython",
    "version": 3
   },
   "file_extension": ".py",
   "mimetype": "text/x-python",
   "name": "python",
   "nbconvert_exporter": "python",
   "pygments_lexer": "ipython3",
   "version": "3.11.4"
  }
 },
 "nbformat": 4,
 "nbformat_minor": 5
}
