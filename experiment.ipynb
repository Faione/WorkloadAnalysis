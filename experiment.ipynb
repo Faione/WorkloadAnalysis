{
 "cells": [
  {
   "cell_type": "code",
   "execution_count": 1,
   "id": "3ae9dddb-defb-4060-ac6b-6ef78b77ad07",
   "metadata": {},
   "outputs": [],
   "source": [
    "class Experiment:\n",
    "    mode = \"\"\n",
    "    start_time = 0\n",
    "    end_time = 0\n",
    "    stress_info_per_epoch = []\n",
    "\n",
    "    def __init__(self, mode, start_time, end_time, stress_info_per_epoch=[]):\n",
    "        self.mode = mode\n",
    "        self.start_time = start_time\n",
    "        self.end_time = end_time\n",
    "        self.stress_info_per_epoch = stress_info_per_epoch\n",
    "\n",
    "    def from_dict(self, exp_dict):\n",
    "        self.mode = exp_dict[\"\"]\n",
    "\n",
    "    def __check_and_set_stress_infos(self, max_epoch):\n",
    "        current_len = len(self.stress_info_per_epoch)\n",
    "        assert current_len == 0 or current_len== max_epoch, f\"miss match max_epoch: cur={current_len}, target={max_epoch}\"\n",
    "        if current_len == 0:\n",
    "            self.stress_info_per_epoch = [{\"stress\": {}} for i in range(max_epoch)]\n",
    "            \n",
    "    def to_dict(self):\n",
    "        return {\n",
    "            \"mode\": self.mode,\n",
    "            \"start_time\": self.start_time,\n",
    "            \"end_time\": self.end_time,\n",
    "            \"stress_info_per_epoch\": self.stress_info_per_epoch,\n",
    "        }\n",
    "\n",
    "    def with_mem_stress(self, memrate_range, memrate_byte=\"1G\"):\n",
    "        self.__check_and_set_stress_infos(len(memrate_range))\n",
    "        idx = 0\n",
    "        for rate in memrate_range:\n",
    "            self.stress_info_per_epoch[idx][\"stress\"][\"mem\"] = {\n",
    "                \"memrate\": rate,\n",
    "                \"memrate-bytes\": memrate_byte,\n",
    "            }\n",
    "            idx = idx + 1\n",
    "        return self\n",
    "\n",
    "    def with_cpu_stress(self, cpu_range, cpuload_range):\n",
    "        self.__check_and_set_stress_infos(len(cpu_range) * len(cpuload_range))\n",
    "\n",
    "        idx = 0\n",
    "        for cpu in cpu_range:\n",
    "            for cpuload in cpuload_range:\n",
    "                self.stress_info_per_epoch[idx][\"stress\"][\"cpu\"] = {\n",
    "                    \"cpu\": cpu,\n",
    "                    \"cpu-load\": cpuload,\n",
    "                }\n",
    "                idx = idx + 1\n",
    "        return self\n",
    "        \n"
   ]
  },
  {
   "cell_type": "code",
   "execution_count": 2,
   "id": "560a508b-cce7-4704-afcc-d98390b13fd0",
   "metadata": {},
   "outputs": [],
   "source": [
    "exp = Experiment(\n",
    "    mode=\"standard\",\n",
    "    start_time = 23123123,\n",
    "    end_time = 12312545,\n",
    ").with_mem_stress(\n",
    "    memrate_range = range(1, 16 + 1),\n",
    ").with_cpu_stress(\n",
    "    cpu_range = [1, 2, 3 ,4],\n",
    "    cpuload_range = [25, 50, 75, 100],\n",
    ").to_dict()"
   ]
  },
  {
   "cell_type": "code",
   "execution_count": 3,
   "id": "38310251-764d-4168-bf87-508f9a0f5603",
   "metadata": {},
   "outputs": [],
   "source": [
    "exp2 = Experiment(**exp)"
   ]
  }
 ],
 "metadata": {
  "kernelspec": {
   "display_name": "Python 3 (ipykernel)",
   "language": "python",
   "name": "python3"
  },
  "language_info": {
   "codemirror_mode": {
    "name": "ipython",
    "version": 3
   },
   "file_extension": ".py",
   "mimetype": "text/x-python",
   "name": "python",
   "nbconvert_exporter": "python",
   "pygments_lexer": "ipython3",
   "version": "3.11.4"
  }
 },
 "nbformat": 4,
 "nbformat_minor": 5
}
